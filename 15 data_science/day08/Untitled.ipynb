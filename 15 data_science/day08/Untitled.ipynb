{
 "cells": [
  {
   "cell_type": "markdown",
   "metadata": {},
   "source": [
    "# vectorize 函数矢量化回测模型"
   ]
  },
  {
   "cell_type": "code",
   "execution_count": 2,
   "metadata": {},
   "outputs": [],
   "source": [
    "import numpy as np\n",
    "import matplotlib.pyplot as plt\n",
    "import pandas as pd\n",
    "import math"
   ]
  },
  {
   "cell_type": "code",
   "execution_count": 3,
   "metadata": {},
   "outputs": [],
   "source": [
    "def func(a, b):\n",
    "    return math.sqrt(a**2 + b**2)"
   ]
  },
  {
   "cell_type": "code",
   "execution_count": 4,
   "metadata": {},
   "outputs": [
    {
     "data": {
      "text/plain": [
       "5.0"
      ]
     },
     "execution_count": 4,
     "metadata": {},
     "output_type": "execute_result"
    }
   ],
   "source": [
    "a, b = 3, 4\n",
    "func(a, b)"
   ]
  },
  {
   "cell_type": "code",
   "execution_count": 10,
   "metadata": {},
   "outputs": [
    {
     "data": {
      "text/plain": [
       "array([5.83095189, 6.40312424, 7.07106781])"
      ]
     },
     "execution_count": 10,
     "metadata": {},
     "output_type": "execute_result"
    }
   ],
   "source": [
    "a, b = [3, 4, 5], [4, 5, 6]\n",
    "func_vec = np.vectorize(func)  # 通过func得到了一个矢量化函数，可以直接处理矢量数据\n",
    "func_vec(a, b)\n",
    "b = 5\n",
    "func_vec(a, b)"
   ]
  },
  {
   "cell_type": "code",
   "execution_count": null,
   "metadata": {},
   "outputs": [],
   "source": []
  },
  {
   "cell_type": "markdown",
   "metadata": {},
   "source": [
    "## 浦发银行金融量化模型"
   ]
  },
  {
   "cell_type": "code",
   "execution_count": 22,
   "metadata": {},
   "outputs": [
    {
     "data": {
      "text/plain": [
       "<matplotlib.axes._subplots.AxesSubplot at 0x193aa726be0>"
      ]
     },
     "execution_count": 22,
     "metadata": {},
     "output_type": "execute_result"
    },
    {
     "data": {
      "image/png": "[encoded data removed]",
      "text/plain": [
       "<matplotlib.figure.Figure at 0x193aa70b6d8>"
      ]
     },
     "metadata": {
      "needs_background": "light"
     },
     "output_type": "display_data"
    }
   ],
   "source": [
    "data = pd.read_csv('../data/pfyh.csv', header=None, names=[\n",
    "    'date', 'open', 'high', 'low', 'close', 'ma5', 'ma10', 'volume'])\n",
    "data['date'] = data['date'].astype('M8[D]')\n",
    "data.plot(x='date', y='close', grid=True)"
   ]
  },
  {
   "cell_type": "code",
   "execution_count": 23,
   "metadata": {},
   "outputs": [
    {
     "data": {
      "text/html": [
       "<div>\n",
       "<style scoped>\n",
       "    .dataframe tbody tr th:only-of-type {\n",
       "        vertical-align: middle;\n",
       "    }\n",
       "\n",
       "    .dataframe tbody tr th {\n",
       "        vertical-align: top;\n",
       "    }\n",
       "\n",
       "    .dataframe thead th {\n",
       "        text-align: right;\n",
       "    }\n",
       "</style>\n",
       "<table border=\"1\" class=\"dataframe\">\n",
       "  <thead>\n",
       "    <tr style=\"text-align: right;\">\n",
       "      <th></th>\n",
       "      <th>date</th>\n",
       "      <th>open</th>\n",
       "      <th>high</th>\n",
       "      <th>low</th>\n",
       "      <th>close</th>\n",
       "      <th>ma5</th>\n",
       "      <th>ma10</th>\n",
       "      <th>volume</th>\n",
       "    </tr>\n",
       "  </thead>\n",
       "  <tbody>\n",
       "    <tr>\n",
       "      <th>0</th>\n",
       "      <td>2018-01-02</td>\n",
       "      <td>12.61</td>\n",
       "      <td>12.77</td>\n",
       "      <td>12.60</td>\n",
       "      <td>12.73</td>\n",
       "      <td>12.624</td>\n",
       "      <td>12.650</td>\n",
       "      <td>313230.53</td>\n",
       "    </tr>\n",
       "    <tr>\n",
       "      <th>1</th>\n",
       "      <td>2018-01-03</td>\n",
       "      <td>12.73</td>\n",
       "      <td>12.80</td>\n",
       "      <td>12.66</td>\n",
       "      <td>12.67</td>\n",
       "      <td>12.630</td>\n",
       "      <td>12.642</td>\n",
       "      <td>378391.00</td>\n",
       "    </tr>\n",
       "    <tr>\n",
       "      <th>2</th>\n",
       "      <td>2018-01-04</td>\n",
       "      <td>12.70</td>\n",
       "      <td>12.73</td>\n",
       "      <td>12.62</td>\n",
       "      <td>12.66</td>\n",
       "      <td>12.638</td>\n",
       "      <td>12.637</td>\n",
       "      <td>278838.03</td>\n",
       "    </tr>\n",
       "    <tr>\n",
       "      <th>3</th>\n",
       "      <td>2018-01-05</td>\n",
       "      <td>12.67</td>\n",
       "      <td>12.71</td>\n",
       "      <td>12.62</td>\n",
       "      <td>12.69</td>\n",
       "      <td>12.668</td>\n",
       "      <td>12.636</td>\n",
       "      <td>310267.44</td>\n",
       "    </tr>\n",
       "    <tr>\n",
       "      <th>4</th>\n",
       "      <td>2018-01-08</td>\n",
       "      <td>12.69</td>\n",
       "      <td>12.71</td>\n",
       "      <td>12.63</td>\n",
       "      <td>12.68</td>\n",
       "      <td>12.686</td>\n",
       "      <td>12.642</td>\n",
       "      <td>313898.88</td>\n",
       "    </tr>\n",
       "  </tbody>\n",
       "</table>\n",
       "</div>"
      ],
      "text/plain": [
       "        date   open   high    low  close     ma5    ma10     volume\n",
       "0 2018-01-02  12.61  12.77  12.60  12.73  12.624  12.650  313230.53\n",
       "1 2018-01-03  12.73  12.80  12.66  12.67  12.630  12.642  378391.00\n",
       "2 2018-01-04  12.70  12.73  12.62  12.66  12.638  12.637  278838.03\n",
       "3 2018-01-05  12.67  12.71  12.62  12.69  12.668  12.636  310267.44\n",
       "4 2018-01-08  12.69  12.71  12.63  12.68  12.686  12.642  313898.88"
      ]
     },
     "execution_count": 23,
     "metadata": {},
     "output_type": "execute_result"
    }
   ],
   "source": [
    "data.head()"
   ]
  },
  {
   "cell_type": "code",
   "execution_count": 38,
   "metadata": {},
   "outputs": [
    {
     "data": {
      "text/plain": [
       "array([ 0,  0,  1,  0,  0,  0,  0,  0,  0,  0,  0,  0,  0,  0,  0,  0,  0,\n",
       "        0,  0,  0,  0,  0,  0, -1,  0,  0,  1,  0,  0, -1,  0,  0,  0,  0,\n",
       "        0,  0,  0,  1, -1,  0,  0,  0,  0,  0,  1,  0,  0, -1,  0,  0,  0,\n",
       "        0,  0,  0,  0,  0,  0,  0,  0,  0,  0,  0,  0,  1,  1,  0,  0,  0,\n",
       "        0,  0, -1,  0,  0,  1,  1, -1,  0,  0,  0,  0,  0,  0,  0,  0,  0,\n",
       "        0,  1,  0,  0, -1,  0,  0,  0,  0,  0,  0,  0,  0,  0,  0,  0,  0,\n",
       "        0,  1, -1,  0,  0,  0,  0,  0,  0,  0,  0,  0,  0,  0,  0,  0,  0,\n",
       "        0,  0,  0,  0,  0,  0,  1,  0,  0,  0,  0,  0,  0, -1,  1,  0,  0,\n",
       "        0,  0,  0,  0,  0,  0,  0, -1,  0,  0,  0,  1,  0,  0,  0,  0,  0,\n",
       "       -1,  0,  0,  1,  0,  0,  0,  0,  0,  0,  0,  0,  0, -1,  0,  0,  0,\n",
       "        0,  0,  0,  0,  0,  1,  0,  0,  0,  0,  0,  0,  0,  0,  0, -1,  0,\n",
       "        0,  0,  0,  0,  0,  1,  0,  0,  0,  0,  0,  0,  0,  0,  0,  0,  0,\n",
       "        0,  0,  0,  0, -1,  0,  0,  0,  0,  0,  0,  0,  0,  0,  0,  0,  0,\n",
       "        0,  0,  1,  0,  0,  0,  0,  0,  0, -1,  0,  0,  0,  0,  0,  0,  0,\n",
       "        0,  0,  0,  0,  0,  0,  0,  0,  1,  0,  0,  0,  0,  0,  0,  0,  0,\n",
       "        0,  0,  0,  0,  0,  0,  0,  0,  0,  0,  0,  0,  0,  0,  0,  0,  0,\n",
       "        0,  0,  0,  0,  0,  0,  0,  0,  0,  0,  0,  0,  0,  0, -1,  0,  0,\n",
       "        0,  0,  0,  0,  0,  1,  0, -1,  0,  0,  0,  0,  0,  0,  1,  0,  0,\n",
       "        0,  0,  0,  0, -1,  0,  1,  0,  0,  0,  0,  0, -1,  0,  0,  0,  0,\n",
       "        0,  1,  0, -1,  0,  0,  0,  0,  0,  0,  1,  0, -1,  0,  0,  0,  0,\n",
       "        0,  0,  1,  0,  0,  0,  0,  0,  0,  0,  0,  0,  0,  0,  0,  0,  0,\n",
       "        0,  0, -1,  0,  0,  0,  0,  0,  0,  0,  0,  0,  0,  0,  0,  0,  1,\n",
       "        0,  0,  0,  0,  0,  0,  0,  0,  0,  0,  0,  0, -1,  0,  0,  0,  0,\n",
       "        0,  0,  1,  0,  0,  0,  0, -1,  1,  0,  0,  0,  0, -1,  0,  0,  0,\n",
       "        0,  1,  0,  0,  0,  0,  0,  0,  0,  0,  0,  0, -1,  0,  0,  0,  0,\n",
       "        0,  1,  0,  0,  0,  0,  0,  0,  0,  0,  0,  0,  0, -1,  0,  0,  0,\n",
       "        0,  0,  0,  0,  0,  0,  1,  0,  0, -1,  0,  0,  0,  0,  0,  0,  0,\n",
       "        0,  0,  0,  0,  0,  0,  0,  0,  0,  0,  0,  0,  0,  1,  0,  0,  0,\n",
       "        0,  0,  0,  0,  0,  0,  0, -1,  0,  0,  0])"
      ]
     },
     "execution_count": 38,
     "metadata": {},
     "output_type": "execute_result"
    }
   ],
   "source": [
    "# 声明一个函数，传入一个日期参数，假设该日期为当前日期，根据已知数据，返回策略输出-1（卖出）1（买入）0（持有）\n",
    "def profit(mdate):\n",
    "    # 基于均线理论，判断金叉死叉，返回相应结果。\n",
    "    mask = data['date']<=mdate\n",
    "    if len(data[mask]) < 2:\n",
    "        return 0\n",
    "    today_data = data[mask].iloc[-1]\n",
    "    yesday_data = data[mask].iloc[-2]\n",
    "    # 昨天的5日均线与10日均线\n",
    "    yma5, yma10 = yesday_data['ma5'], yesday_data['ma10']\n",
    "    # 今天的5日均线与10日均线\n",
    "    tma5, tma10 = today_data['ma5'], today_data['ma10']\n",
    "    # 判断金叉死叉\n",
    "    if (yma10>=yma5) and (tma10<=tma5): # 金叉\n",
    "        return 1\n",
    "    if (yma10<=yma5) and (tma10>=tma5): # 死叉\n",
    "        return -1\n",
    "    return 0\n",
    "    \n",
    "# 把profit函数矢量化处理\n",
    "profit_vec = np.vectorize(profit)\n",
    "result = profit_vec(data['date'])\n",
    "result"
   ]
  },
  {
   "cell_type": "code",
   "execution_count": 43,
   "metadata": {},
   "outputs": [
    {
     "name": "stdout",
     "output_type": "stream",
     "text": [
      "买入：dates:2018-01-04 00:00:00, curr price:12.66, assets:11.92, stocks:78988\n",
      "卖出：dates:2018-02-02 00:00:00, curr price:13.14, assets:1037914.24, stocks:0\n",
      "买入：dates:2018-02-07 00:00:00, curr price:13.45, assets:4.64, stocks:77168\n",
      "止损：dates:2018-02-09 00:00:00, curr price:12.78, assets:986211.68, stocks:0\n",
      "买入：dates:2018-03-01 00:00:00, curr price:12.46, assets:2.68, stocks:79150\n",
      "卖出：dates:2018-03-02 00:00:00, curr price:12.41, assets:982254.18, stocks:0\n",
      "买入：dates:2018-03-12 00:00:00, curr price:12.51, assets:6.51, stocks:78517\n",
      "卖出：dates:2018-03-15 00:00:00, curr price:12.38, assets:972046.97, stocks:0\n",
      "买入：dates:2018-04-10 00:00:00, curr price:11.76, assets:0.65, stocks:82657\n",
      "卖出：dates:2018-04-19 00:00:00, curr price:11.78, assets:973700.11, stocks:0\n",
      "买入：dates:2018-04-24 00:00:00, curr price:11.78, assets:0.65, stocks:82657\n",
      "卖出：dates:2018-04-26 00:00:00, curr price:11.55, assets:954689.00, stocks:0\n",
      "买入：dates:2018-05-15 00:00:00, curr price:11.00, assets:10.00, stocks:86789\n",
      "卖出：dates:2018-05-18 00:00:00, curr price:10.89, assets:945142.21, stocks:0\n",
      "买入：dates:2018-06-07 00:00:00, curr price:10.61, assets:3.41, stocks:89080\n",
      "卖出：dates:2018-06-08 00:00:00, curr price:10.41, assets:927326.21, stocks:0\n",
      "买入：dates:2018-07-10 00:00:00, curr price:9.57, assets:2.78, stocks:96899\n",
      "卖出：dates:2018-07-19 00:00:00, curr price:9.57, assets:927326.21, stocks:0\n",
      "买入：dates:2018-07-20 00:00:00, curr price:9.87, assets:0.23, stocks:93954\n",
      "卖出：dates:2018-08-03 00:00:00, curr price:9.83, assets:923568.05, stocks:0\n",
      "买入：dates:2018-08-09 00:00:00, curr price:10.14, assets:6.71, stocks:91081\n",
      "卖出：dates:2018-08-17 00:00:00, curr price:9.97, assets:908084.28, stocks:0\n",
      "买入：dates:2018-08-22 00:00:00, curr price:10.09, assets:4.46, stocks:89998\n",
      "卖出：dates:2018-09-05 00:00:00, curr price:10.12, assets:910784.22, stocks:0\n",
      "买入：dates:2018-09-18 00:00:00, curr price:10.26, assets:4.02, stocks:88770\n",
      "卖出：dates:2018-10-10 00:00:00, curr price:10.17, assets:902794.92, stocks:0\n",
      "买入：dates:2018-10-19 00:00:00, curr price:10.38, assets:4.80, stocks:86974\n",
      "卖出：dates:2018-11-12 00:00:00, curr price:10.80, assets:939324.00, stocks:0\n",
      "买入：dates:2018-12-03 00:00:00, curr price:11.02, assets:1.24, stocks:85238\n",
      "卖出：dates:2018-12-12 00:00:00, curr price:10.73, assets:914604.98, stocks:0\n",
      "买入：dates:2019-01-07 00:00:00, curr price:9.98, assets:7.84, stocks:91643\n",
      "卖出：dates:2019-03-11 00:00:00, curr price:11.47, assets:1051153.05, stocks:0\n",
      "买入：dates:2019-03-21 00:00:00, curr price:11.46, assets:7.47, stocks:91723\n",
      "卖出：dates:2019-03-25 00:00:00, curr price:11.03, assets:1011712.16, stocks:0\n",
      "买入：dates:2019-04-03 00:00:00, curr price:11.50, assets:11.16, stocks:87974\n",
      "卖出：dates:2019-04-15 00:00:00, curr price:11.47, assets:1009072.94, stocks:0\n",
      "买入：dates:2019-04-17 00:00:00, curr price:11.91, assets:10.10, stocks:84724\n",
      "卖出：dates:2019-04-25 00:00:00, curr price:11.54, assets:977725.06, stocks:0\n",
      "买入：dates:2019-05-08 00:00:00, curr price:11.51, assets:8.11, stocks:84945\n",
      "卖出：dates:2019-05-10 00:00:00, curr price:11.32, assets:961585.51, stocks:0\n",
      "买入：dates:2019-05-21 00:00:00, curr price:11.32, assets:8.11, stocks:84945\n",
      "卖出：dates:2019-05-23 00:00:00, curr price:11.10, assets:942897.61, stocks:0\n",
      "买入：dates:2019-06-03 00:00:00, curr price:11.28, assets:2.41, stocks:83590\n",
      "卖出：dates:2019-06-27 00:00:00, curr price:11.64, assets:972990.01, stocks:0\n",
      "买入：dates:2019-07-17 00:00:00, curr price:11.48, assets:2.61, stocks:84755\n",
      "卖出：dates:2019-08-05 00:00:00, curr price:11.24, assets:952648.81, stocks:0\n",
      "买入：dates:2019-08-14 00:00:00, curr price:11.28, assets:7.69, stocks:84454\n",
      "卖出：dates:2019-08-21 00:00:00, curr price:11.41, assets:963627.83, stocks:0\n",
      "买入：dates:2019-08-22 00:00:00, curr price:11.43, assets:10.25, stocks:84306\n",
      "卖出：dates:2019-08-29 00:00:00, curr price:11.23, assets:946766.63, stocks:0\n",
      "买入：dates:2019-09-05 00:00:00, curr price:11.62, assets:3.89, stocks:81477\n",
      "卖出：dates:2019-09-23 00:00:00, curr price:11.75, assets:957358.64, stocks:0\n",
      "买入：dates:2019-10-08 00:00:00, curr price:11.90, assets:3.64, stocks:80450\n",
      "卖出：dates:2019-10-24 00:00:00, curr price:13.09, assets:1053094.14, stocks:0\n",
      "买入：dates:2019-11-07 00:00:00, curr price:12.76, assets:11.34, stocks:82530\n",
      "止损：dates:2019-11-12 00:00:00, curr price:12.24, assets:1010178.54, stocks:0\n",
      "买入：dates:2019-12-11 00:00:00, curr price:11.98, assets:0.98, stocks:84322\n",
      "卖出：dates:2019-12-26 00:00:00, curr price:12.29, assets:1036318.36, stocks:0\n",
      "持有：dates:2019-12-31 00:00:00, curr price:12.37, assets:1036318.36, stocks:0\n"
     ]
    }
   ],
   "source": [
    "# 定义资产\n",
    "assets = 1000000\n",
    "stocks = 0\n",
    "payment_price = 0\n",
    "status = 0\n",
    "for index, profit in enumerate(result):\n",
    "    current_price = data['close'][index]\n",
    "    # 如果是买入并且赔了的状态，若已经跌出5%，则强制卖出\n",
    "    if status == 1:\n",
    "        payment_assets = payment_price * stocks\n",
    "        current_assets = current_price * stocks\n",
    "        if (payment_assets > current_assets) and ((payment_assets-current_assets) > payment_assets *0.04):\n",
    "            payment_price = current_price\n",
    "            assets = assets + stocks * payment_price\n",
    "            stocks = 0\n",
    "            status = -1\n",
    "            print('止损：dates:{}, curr price:{:.2f}, assets:{:.2f}, stocks:{:d}'.format(\n",
    "                data['date'][index], current_price, assets, stocks))\n",
    "    if (profit == 1) and (status != 1): # 买入\n",
    "        payment_price = current_price\n",
    "        stocks = int(assets / payment_price)\n",
    "        assets = assets - stocks * payment_price\n",
    "        status = 1\n",
    "        print('买入：dates:{}, curr price:{:.2f}, assets:{:.2f}, stocks:{:d}'.format(\n",
    "            data['date'][index], current_price, assets, stocks))\n",
    "    if (profit == -1) and (status != -1): # 卖出\n",
    "        payment_price = current_price\n",
    "        assets = assets + stocks * payment_price\n",
    "        stocks = 0\n",
    "        status = -1\n",
    "        print('卖出：dates:{}, curr price:{:.2f}, assets:{:.2f}, stocks:{:d}'.format(\n",
    "            data['date'][index], current_price, assets, stocks))\n",
    "print('持有：dates:{}, curr price:{:.2f}, assets:{:.2f}, stocks:{:d}'.format(\n",
    "    data['date'][index], current_price, assets, stocks))"
   ]
  },
  {
   "cell_type": "code",
   "execution_count": null,
   "metadata": {},
   "outputs": [],
   "source": []
  },
  {
   "cell_type": "code",
   "execution_count": null,
   "metadata": {},
   "outputs": [],
   "source": []
  }
 ],
 "metadata": {
  "kernelspec": {
   "display_name": "Python 3.6.4 64-bit ('aid': conda)",
   "language": "python",
   "name": "python36464bitaidcondae59d3bb693a64e389fabf1b849bb4be3"
  },
  "language_info": {
   "codemirror_mode": {
    "name": "ipython",
    "version": 3
   },
   "file_extension": ".py",
   "mimetype": "text/x-python",
   "name": "python",
   "nbconvert_exporter": "python",
   "pygments_lexer": "ipython3",
   "version": "3.6.4"
  }
 },
 "nbformat": 4,
 "nbformat_minor": 2
}
