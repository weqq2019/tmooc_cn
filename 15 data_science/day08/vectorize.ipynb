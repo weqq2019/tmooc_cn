{
 "cells": [
  {
   "cell_type": "markdown",
   "metadata": {},
   "source": [
    "# vectorize 函数矢量化回测模型"
   ]
  },
  {
   "cell_type": "code",
   "execution_count": 2,
   "metadata": {},
   "outputs": [],
   "source": [
    "import numpy as np\n",
    "import matplotlib.pyplot as plt\n",
    "import pandas as pd\n",
    "import math"
   ]
  },
  {
   "cell_type": "code",
   "execution_count": 3,
   "metadata": {},
   "outputs": [],
   "source": [
    "def func(a, b):\n",
    "    return math.sqrt(a**2 + b**2)"
   ]
  },
  {
   "cell_type": "code",
   "execution_count": 4,
   "metadata": {},
   "outputs": [
    {
     "data": {
      "text/plain": [
       "5.0"
      ]
     },
     "execution_count": 4,
     "metadata": {},
     "output_type": "execute_result"
    }
   ],
   "source": [
    "a, b = 3, 4\n",
    "func(a, b)"
   ]
  },
  {
   "cell_type": "code",
   "execution_count": 10,
   "metadata": {},
   "outputs": [
    {
     "data": {
      "text/plain": [
       "array([5.83095189, 6.40312424, 7.07106781])"
      ]
     },
     "execution_count": 10,
     "metadata": {},
     "output_type": "execute_result"
    }
   ],
   "source": [
    "a, b = [3, 4, 5], [4, 5, 6]\n",
    "func_vec = np.vectorize(func)  # 通过func得到了一个矢量化函数，可以直接处理矢量数据\n",
    "func_vec(a, b)\n",
    "b = 5\n",
    "func_vec(a, b)"
   ]
  },
  {
   "cell_type": "code",
   "execution_count": null,
   "metadata": {},
   "outputs": [],
   "source": []
  },
  {
   "cell_type": "markdown",
   "metadata": {},
   "source": [
    "## 浦发银行金融量化模型"
   ]
  },
  {
   "cell_type": "code",
   "execution_count": 22,
   "metadata": {},
   "outputs": [
    {
     "data": {
      "text/plain": [
       "<matplotlib.axes._subplots.AxesSubplot at 0x193aa726be0>"
      ]
     },
     "execution_count": 22,
     "metadata": {},
     "output_type": "execute_result"
    },
    {
     "data": {
      "image/png": "[encoded data removed]",
      "text/plain": [
       "<matplotlib.figure.Figure at 0x193aa70b6d8>"
      ]
     },
     "metadata": {
      "needs_background": "light"
     },
     "output_type": "display_data"
    }
   ],
   "source": [
    "data = pd.read_csv('../data/pfyh.csv', header=None, names=[\n",
    "    'date', 'open', 'high', 'low', 'close', 'ma5', 'ma10', 'volume'])\n",
    "data['date'] = data['date'].astype('M8[D]')\n",
    "data.plot(x='date', y='close', grid=True)"
   ]
  },
  {
   "cell_type": "code",
   "execution_count": 23,
   "metadata": {},
   "outputs": [
    {
     "data": {
      "text/html": [
       "<div>\n",
       "<style scoped>\n",
       "    .dataframe tbody tr th:only-of-type {\n",
       "        vertical-align: middle;\n",
       "    }\n",
       "\n",
       "    .dataframe tbody tr th {\n",
       "        vertical-align: top;\n",
       "    }\n",
       "\n",
       "    .dataframe thead th {\n",
       "        text-align: right;\n",
       "    }\n",
       "</style>\n",
       "<table border=\"1\" class=\"dataframe\">\n",
       "  <thead>\n",
       "    <tr style=\"text-align: right;\">\n",
       "      <th></th>\n",
       "      <th>date</th>\n",
       "      <th>open</th>\n",
       "      <th>high</th>\n",
       "      <th>low</th>\n",
       "      <th>close</th>\n",
       "      <th>ma5</th>\n",
       "      <th>ma10</th>\n",
       "      <th>volume</th>\n",
       "    </tr>\n",
       "  </thead>\n",
       "  <tbody>\n",
       "    <tr>\n",
       "      <th>0</th>\n",
       "      <td>2018-01-02</td>\n",
       "      <td>12.61</td>\n",
       "      <td>12.77</td>\n",
       "      <td>12.60</td>\n",
       "      <td>12.73</td>\n",
       "      <td>12.624</td>\n",
       "      <td>12.650</td>\n",
       "      <td>313230.53</td>\n",
       "    </tr>\n",
       "    <tr>\n",
       "      <th>1</th>\n",
       "      <td>2018-01-03</td>\n",
       "      <td>12.73</td>\n",
       "      <td>12.80</td>\n",
       "      <td>12.66</td>\n",
       "      <td>12.67</td>\n",
       "      <td>12.630</td>\n",
       "      <td>12.642</td>\n",
       "      <td>378391.00</td>\n",
       "    </tr>\n",
       "    <tr>\n",
       "      <th>2</th>\n",
       "      <td>2018-01-04</td>\n",
       "      <td>12.70</td>\n",
       "      <td>12.73</td>\n",
       "      <td>12.62</td>\n",
       "      <td>12.66</td>\n",
       "      <td>12.638</td>\n",
       "      <td>12.637</td>\n",
       "      <td>278838.03</td>\n",
       "    </tr>\n",
       "    <tr>\n",
       "      <th>3</th>\n",
       "      <td>2018-01-05</td>\n",
       "      <td>12.67</td>\n",
       "      <td>12.71</td>\n",
       "      <td>12.62</td>\n",
       "      <td>12.69</td>\n",
       "      <td>12.668</td>\n",
       "      <td>12.636</td>\n",
       "      <td>310267.44</td>\n",
       "    </tr>\n",
       "    <tr>\n",
       "      <th>4</th>\n",
       "      <td>2018-01-08</td>\n",
       "      <td>12.69</td>\n",
       "      <td>12.71</td>\n",
       "      <td>12.63</td>\n",
       "      <td>12.68</td>\n",
       "      <td>12.686</td>\n",
       "      <td>12.642</td>\n",
       "      <td>313898.88</td>\n",
       "    </tr>\n",
       "  </tbody>\n",
       "</table>\n",
       "</div>"
      ],
      "text/plain": [
       "        date   open   high    low  close     ma5    ma10     volume\n",
       "0 2018-01-02  12.61  12.77  12.60  12.73  12.624  12.650  313230.53\n",
       "1 2018-01-03  12.73  12.80  12.66  12.67  12.630  12.642  378391.00\n",
       "2 2018-01-04  12.70  12.73  12.62  12.66  12.638  12.637  278838.03\n",
       "3 2018-01-05  12.67  12.71  12.62  12.69  12.668  12.636  310267.44\n",
       "4 2018-01-08  12.69  12.71  12.63  12.68  12.686  12.642  313898.88"
      ]
     },
     "execution_count": 23,
     "metadata": {},
     "output_type": "execute_result"
    }
   ],
   "source": [
    "data.head()"
   ]
  },
  {
   "cell_type": "code",
   "execution_count": 81,
   "metadata": {
    "scrolled": false
   },
   "outputs": [
    {
     "data": {
      "image/png": "[encoded data removed]",
      "text/plain": [
       "<matplotlib.figure.Figure at 0x193ac5bf630>"
      ]
     },
     "metadata": {
      "needs_background": "light"
     },
     "output_type": "display_data"
    }
   ],
   "source": [
    "import tushare as ts\n",
    "data = ts.get_hist_data('600088')\n",
    "data = data.reset_index().sort_values(by='date')\n",
    "data.plot(x='date', y='close', grid=True)\n",
    "data.index = np.arange(len(data))"
   ]
  },
  {
   "cell_type": "code",
   "execution_count": 82,
   "metadata": {},
   "outputs": [
    {
     "data": {
      "text/plain": [
       "array([ 0,  1,  1,  1,  1, -1,  0,  0,  0,  0,  0,  0,  0,  0,  0,  0,  0,\n",
       "        1,  0,  0,  0,  0, -1,  0,  0,  0,  0,  0,  0,  0,  0,  0,  1,  0,\n",
       "       -1,  0,  0,  0,  0,  0,  0,  0,  0,  0,  0,  1,  0,  0,  0,  0,  0,\n",
       "        0, -1,  0,  0,  0,  0,  0,  0,  0,  1,  0,  0,  0,  0,  0,  0,  0,\n",
       "        0,  0,  0,  0,  0, -1,  0,  1,  0,  0,  0, -1,  0,  1,  0,  0,  0,\n",
       "        0,  0,  0,  0,  0,  0, -1,  0,  0,  0,  0,  0,  0,  0,  0,  0,  0,\n",
       "        0,  0,  0,  0,  0,  1,  0,  0,  0,  0,  0,  0,  0,  0,  0,  0,  0,\n",
       "        0,  0,  0,  0,  0,  0, -1,  0,  0,  0,  0,  0,  0,  0,  0,  0,  0,\n",
       "        0,  0,  0,  0,  0,  0,  0,  0,  0,  0,  0,  0,  0,  0,  0,  0,  0,\n",
       "        0,  0,  0,  1,  0,  0,  0,  0,  0, -1,  0,  0,  1,  0,  0,  0,  0,\n",
       "        0,  0, -1,  0,  0,  0,  0,  0,  0,  0,  1,  0,  0, -1,  0,  0,  0,\n",
       "        0,  0,  1,  0,  0,  0,  0, -1,  0,  0,  0,  0,  0,  0,  0,  0,  0,\n",
       "        0,  0,  1,  0,  0,  0,  0,  0,  0, -1,  0,  0,  0,  0,  0,  0,  0,\n",
       "        0,  0,  0,  1,  0,  0,  0,  0,  0,  0,  0,  0,  0,  0,  0,  0,  0,\n",
       "        0,  0,  0,  0,  0,  0,  0,  0,  0,  0,  0, -1,  1, -1,  1,  0,  0,\n",
       "       -1,  0,  0,  0,  0,  0,  0,  0,  0,  0,  0,  0,  0,  0,  0,  0,  0,\n",
       "        1,  0,  0,  0,  0,  0,  0,  0,  0,  0,  0,  0,  0,  0,  0, -1, -1,\n",
       "        1, -1,  1,  0,  0, -1,  0,  0,  0,  0,  1,  0,  0,  0,  0,  0,  0,\n",
       "        0,  0,  0,  0,  0,  0,  0,  0,  0,  0,  0,  0,  0,  0,  0,  0,  0,\n",
       "        0,  0,  0,  0,  0,  0,  0, -1,  0,  0,  0,  0,  1,  0,  0,  0,  0,\n",
       "        0, -1,  0,  0,  0,  0,  0,  0,  0,  0,  0,  0,  0,  0,  0,  0,  0,\n",
       "        0,  0,  0,  0,  1,  0,  0, -1,  0,  0,  0,  0,  0,  1, -1,  0,  0,\n",
       "        0,  0,  0,  0,  0,  0,  0,  1, -1,  0,  0,  0,  0,  1,  0,  0,  0,\n",
       "       -1,  0,  0,  0,  0,  0,  0,  0,  0,  0,  1,  0,  0,  0,  0, -1,  0,\n",
       "        0,  0,  0,  0,  1,  0,  0,  0, -1,  0,  0,  0,  0,  0,  0,  0,  0,\n",
       "        1,  0,  0,  0,  0,  0,  0,  0,  0,  0,  0,  0,  0,  0,  0,  0,  0,\n",
       "        0,  0,  0,  0,  0,  0,  0, -1,  0,  0,  0,  0,  0,  0,  0,  0,  0,\n",
       "        0,  0,  1,  0,  0,  0, -1,  0,  0,  0,  0,  1,  0,  0,  0,  0, -1,\n",
       "        0,  0,  0,  0,  0,  0,  0,  0,  0,  0,  0,  0,  0,  1,  0,  0,  0,\n",
       "        0, -1,  0,  0,  0,  0,  0,  1,  0,  0,  0,  0,  0,  0,  0,  0,  0,\n",
       "        0,  0, -1,  0,  0,  0,  0,  0,  1,  0,  0,  0,  0,  0,  0,  0,  0,\n",
       "        0,  0,  0,  0,  0, -1,  0,  0,  0,  0,  0,  0,  0,  0,  1,  0,  0,\n",
       "        0,  0,  0,  0,  0,  0,  0,  0, -1,  0,  0,  0,  0,  0,  0,  0,  0,\n",
       "        0,  0,  0,  0,  0,  0,  0,  0,  0,  1,  0,  0,  0,  0, -1,  0,  0,\n",
       "        0,  0,  1,  0,  0,  0,  0, -1,  0,  0,  0,  0,  0,  0,  0,  0,  0,\n",
       "        0,  0,  0,  0,  1,  0,  0,  0,  0,  0, -1])"
      ]
     },
     "execution_count": 82,
     "metadata": {},
     "output_type": "execute_result"
    }
   ],
   "source": [
    "# 声明一个函数，传入一个日期参数，假设该日期为当前日期，根据已知数据，返回策略输出-1（卖出）1（买入）0（持有）\n",
    "def profit(mdate):\n",
    "    # 基于均线理论，判断金叉死叉，返回相应结果。\n",
    "    mask = data['date']<=mdate\n",
    "    if len(data[mask]) < 2:\n",
    "        return 0\n",
    "    today_data = data[mask].iloc[-1]\n",
    "    yesday_data = data[mask].iloc[-2]\n",
    "    # 昨天的5日均线与10日均线\n",
    "    yma5, yma10 = yesday_data['ma5'], yesday_data['ma10']\n",
    "    # 今天的5日均线与10日均线\n",
    "    tma5, tma10 = today_data['ma5'], today_data['ma10']\n",
    "    # 判断金叉死叉\n",
    "    if (yma10>=yma5) and (tma10<=tma5): # 金叉\n",
    "        return 1\n",
    "    if (yma10<=yma5) and (tma10>=tma5): # 死叉\n",
    "        return -1\n",
    "    return 0\n",
    "    \n",
    "# 把profit函数矢量化处理\n",
    "profit_vec = np.vectorize(profit)\n",
    "result = profit_vec(data['date'])\n",
    "result"
   ]
  },
  {
   "cell_type": "code",
   "execution_count": 83,
   "metadata": {
    "scrolled": true
   },
   "outputs": [
    {
     "name": "stdout",
     "output_type": "stream",
     "text": [
      "买入：dates:2017-11-21, curr price:14.92, assets:1.92, stocks:67024\n",
      "止损：dates:2017-11-24, curr price:14.13, assets:947051.04, stocks:0\n",
      "买入：dates:2017-11-24, curr price:14.13, assets:1.92, stocks:67024\n",
      "卖出：dates:2017-11-27, curr price:14.09, assets:944370.08, stocks:0\n",
      "买入：dates:2017-12-13, curr price:13.82, assets:8.02, stocks:68333\n",
      "卖出：dates:2017-12-20, curr price:13.20, assets:902003.62, stocks:0\n",
      "买入：dates:2018-01-04, curr price:13.06, assets:1.66, stocks:69066\n",
      "卖出：dates:2018-01-08, curr price:12.84, assets:886809.10, stocks:0\n",
      "买入：dates:2018-01-23, curr price:12.47, assets:5.05, stocks:71115\n",
      "止损：dates:2018-02-01, curr price:10.97, assets:780136.60, stocks:0\n",
      "买入：dates:2018-02-13, curr price:12.20, assets:7.60, stocks:63945\n",
      "卖出：dates:2018-03-09, curr price:13.05, assets:834489.85, stocks:0\n",
      "买入：dates:2018-03-13, curr price:13.13, assets:12.70, stocks:63555\n",
      "卖出：dates:2018-03-19, curr price:12.52, assets:795721.30, stocks:0\n",
      "买入：dates:2018-03-21, curr price:13.80, assets:13.30, stocks:57660\n",
      "卖出：dates:2018-04-04, curr price:14.10, assets:813019.30, stocks:0\n",
      "买入：dates:2018-05-02, curr price:13.52, assets:7.62, stocks:60134\n",
      "卖出：dates:2018-05-28, curr price:14.48, assets:870747.94, stocks:0\n",
      "买入：dates:2018-07-11, curr price:9.35, assets:1.14, stocks:93128\n",
      "卖出：dates:2018-07-19, curr price:9.36, assets:871679.22, stocks:0\n",
      "买入：dates:2018-07-24, curr price:9.86, assets:5.92, stocks:88405\n",
      "止损：dates:2018-08-02, curr price:9.04, assets:799187.12, stocks:0\n",
      "买入：dates:2018-08-14, curr price:9.22, assets:6.74, stocks:86679\n",
      "止损：dates:2018-08-17, curr price:8.66, assets:750646.88, stocks:0\n",
      "买入：dates:2018-08-27, curr price:9.14, assets:6.10, stocks:82127\n",
      "卖出：dates:2018-09-03, curr price:8.94, assets:734221.48, stocks:0\n",
      "买入：dates:2018-09-19, curr price:9.00, assets:1.48, stocks:81580\n",
      "止损：dates:2018-10-08, curr price:8.42, assets:686905.08, stocks:0\n",
      "买入：dates:2018-10-23, curr price:7.73, assets:1.82, stocks:88862\n",
      "卖出：dates:2018-11-27, curr price:8.87, assets:788207.76, stocks:0\n",
      "买入：dates:2018-11-28, curr price:9.54, assets:3.42, stocks:82621\n",
      "止损：dates:2018-11-29, curr price:8.88, assets:733677.90, stocks:0\n",
      "买入：dates:2018-11-30, curr price:8.71, assets:8.47, stocks:84233\n",
      "卖出：dates:2018-12-05, curr price:8.82, assets:742943.53, stocks:0\n",
      "买入：dates:2018-12-28, curr price:8.33, assets:7.49, stocks:89188\n",
      "卖出：dates:2019-01-22, curr price:8.75, assets:780402.49, stocks:0\n",
      "买入：dates:2019-01-24, curr price:8.92, assets:0.61, stocks:87489\n",
      "卖出：dates:2019-01-25, curr price:8.81, assets:770778.70, stocks:0\n",
      "买入：dates:2019-01-28, curr price:9.12, assets:1.90, stocks:84515\n",
      "止损：dates:2019-01-30, curr price:8.53, assets:720914.85, stocks:0\n",
      "买入：dates:2019-02-14, curr price:9.09, assets:5.13, stocks:79308\n",
      "卖出：dates:2019-03-29, curr price:19.39, assets:1537787.25, stocks:0\n",
      "买入：dates:2019-04-08, curr price:21.81, assets:7.77, stocks:70508\n",
      "止损：dates:2019-04-11, curr price:20.34, assets:1434140.49, stocks:0\n",
      "买入：dates:2019-05-17, curr price:14.74, assets:12.19, stocks:97295\n",
      "卖出：dates:2019-05-22, curr price:15.30, assets:1488625.69, stocks:0\n",
      "买入：dates:2019-05-30, curr price:14.88, assets:0.73, stocks:100042\n",
      "卖出：dates:2019-05-31, curr price:14.65, assets:1465616.03, stocks:0\n",
      "买入：dates:2019-06-17, curr price:13.61, assets:9.57, stocks:107686\n",
      "卖出：dates:2019-06-18, curr price:13.49, assets:1452693.71, stocks:0\n",
      "买入：dates:2019-06-25, curr price:13.83, assets:4.34, stocks:105039\n",
      "卖出：dates:2019-07-01, curr price:13.90, assets:1460046.44, stocks:0\n",
      "买入：dates:2019-07-15, curr price:13.79, assets:2.61, stocks:105877\n",
      "止损：dates:2019-07-22, curr price:12.92, assets:1367933.45, stocks:0\n",
      "买入：dates:2019-07-30, curr price:13.48, assets:10.01, stocks:101478\n",
      "卖出：dates:2019-08-05, curr price:12.83, assets:1301972.75, stocks:0\n",
      "买入：dates:2019-08-16, curr price:12.56, assets:3.15, stocks:103660\n",
      "卖出：dates:2019-09-20, curr price:14.65, assets:1518622.15, stocks:0\n",
      "买入：dates:2019-10-15, curr price:13.84, assets:0.47, stocks:109727\n",
      "止损：dates:2019-10-21, curr price:13.10, assets:1437424.17, stocks:0\n",
      "买入：dates:2019-10-28, curr price:14.11, assets:10.25, stocks:101872\n",
      "止损：dates:2019-10-31, curr price:13.29, assets:1353889.13, stocks:0\n",
      "买入：dates:2019-11-22, curr price:12.72, assets:10.49, stocks:106437\n",
      "卖出：dates:2019-11-29, curr price:12.53, assets:1333666.10, stocks:0\n",
      "买入：dates:2019-12-09, curr price:12.67, assets:9.23, stocks:105261\n",
      "卖出：dates:2019-12-25, curr price:13.41, assets:1411559.24, stocks:0\n",
      "买入：dates:2020-01-03, curr price:14.92, assets:7.88, stocks:94608\n",
      "卖出：dates:2020-01-23, curr price:14.78, assets:1398314.12, stocks:0\n",
      "买入：dates:2020-02-13, curr price:13.70, assets:9.92, stocks:102066\n",
      "卖出：dates:2020-02-28, curr price:14.07, assets:1436078.54, stocks:0\n",
      "买入：dates:2020-03-25, curr price:13.93, assets:6.98, stocks:103092\n",
      "止损：dates:2020-03-30, curr price:13.15, assets:1355666.78, stocks:0\n",
      "买入：dates:2020-04-09, curr price:14.15, assets:11.88, stocks:95806\n",
      "止损：dates:2020-04-13, curr price:13.31, assets:1275189.74, stocks:0\n",
      "买入：dates:2020-05-11, curr price:12.61, assets:3.49, stocks:101125\n",
      "卖出：dates:2020-05-19, curr price:12.43, assets:1256987.24, stocks:0\n",
      "持有：dates:2020-05-19, curr price:12.43, assets:1256987.24, stocks:0\n"
     ]
    }
   ],
   "source": [
    "# 定义资产\n",
    "assets = 1000000\n",
    "stocks = 0\n",
    "payment_price = 0\n",
    "status = 0\n",
    "for index, profit in enumerate(result):\n",
    "    current_price = data['close'][index]\n",
    "    # 如果是买入并且赔了的状态，若已经跌出5%，则强制卖出\n",
    "    if status == 1:\n",
    "        payment_assets = payment_price * stocks\n",
    "        current_assets = current_price * stocks\n",
    "        if (payment_assets > current_assets) and ((payment_assets-current_assets) > payment_assets *0.05):\n",
    "            payment_price = current_price\n",
    "            assets = assets + stocks * payment_price\n",
    "            stocks = 0\n",
    "            status = -1\n",
    "            print('止损：dates:{}, curr price:{:.2f}, assets:{:.2f}, stocks:{:d}'.format(\n",
    "                data['date'][index], current_price, assets, stocks))\n",
    "    if (profit == 1) and (status != 1): # 买入\n",
    "        payment_price = current_price\n",
    "        stocks = int(assets / payment_price)\n",
    "        assets = assets - stocks * payment_price\n",
    "        status = 1\n",
    "        print('买入：dates:{}, curr price:{:.2f}, assets:{:.2f}, stocks:{:d}'.format(\n",
    "            data['date'][index], current_price, assets, stocks))\n",
    "    if (profit == -1) and (status != -1): # 卖出\n",
    "        payment_price = current_price\n",
    "        assets = assets + stocks * payment_price\n",
    "        stocks = 0\n",
    "        status = -1\n",
    "        print('卖出：dates:{}, curr price:{:.2f}, assets:{:.2f}, stocks:{:d}'.format(\n",
    "            data['date'][index], current_price, assets, stocks))\n",
    "print('持有：dates:{}, curr price:{:.2f}, assets:{:.2f}, stocks:{:d}'.format(\n",
    "    data['date'][index], current_price, assets, stocks))"
   ]
  },
  {
   "cell_type": "code",
   "execution_count": null,
   "metadata": {},
   "outputs": [],
   "source": []
  },
  {
   "cell_type": "code",
   "execution_count": null,
   "metadata": {},
   "outputs": [],
   "source": []
  }
 ],
 "metadata": {
  "kernelspec": {
   "display_name": "Python 3.6.4 64-bit ('aid': conda)",
   "language": "python",
   "name": "python36464bitaidcondae59d3bb693a64e389fabf1b849bb4be3"
  },
  "language_info": {
   "codemirror_mode": {
    "name": "ipython",
    "version": 3
   },
   "file_extension": ".py",
   "mimetype": "text/x-python",
   "name": "python",
   "nbconvert_exporter": "python",
   "pygments_lexer": "ipython3",
   "version": "3.6.4"
  }
 },
 "nbformat": 4,
 "nbformat_minor": 2
}
