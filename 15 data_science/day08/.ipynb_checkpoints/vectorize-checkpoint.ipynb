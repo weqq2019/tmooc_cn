{
 "cells": [
  {
   "cell_type": "markdown",
   "metadata": {},
   "source": [
    "# vectorize 函数矢量化回测模型"
   ]
  },
  {
   "cell_type": "code",
   "execution_count": 2,
   "metadata": {},
   "outputs": [],
   "source": [
    "import numpy as np\n",
    "import matplotlib.pyplot as plt\n",
    "import pandas as pd\n",
    "import math"
   ]
  },
  {
   "cell_type": "code",
   "execution_count": 3,
   "metadata": {},
   "outputs": [],
   "source": [
    "def func(a, b):\n",
    "    return math.sqrt(a**2 + b**2)"
   ]
  },
  {
   "cell_type": "code",
   "execution_count": 4,
   "metadata": {},
   "outputs": [
    {
     "data": {
      "text/plain": [
       "5.0"
      ]
     },
     "execution_count": 4,
     "metadata": {},
     "output_type": "execute_result"
    }
   ],
   "source": [
    "a, b = 3, 4\n",
    "func(a, b)"
   ]
  },
  {
   "cell_type": "code",
   "execution_count": 10,
   "metadata": {},
   "outputs": [
    {
     "data": {
      "text/plain": [
       "array([5.83095189, 6.40312424, 7.07106781])"
      ]
     },
     "execution_count": 10,
     "metadata": {},
     "output_type": "execute_result"
    }
   ],
   "source": [
    "a, b = [3, 4, 5], [4, 5, 6]\n",
    "func_vec = np.vectorize(func)  # 通过func得到了一个矢量化函数，可以直接处理矢量数据\n",
    "func_vec(a, b)\n",
    "b = 5\n",
    "func_vec(a, b)"
   ]
  },
  {
   "cell_type": "code",
   "execution_count": null,
   "metadata": {},
   "outputs": [],
   "source": []
  },
  {
   "cell_type": "markdown",
   "metadata": {},
   "source": [
    "## 浦发银行金融量化模型"
   ]
  },
  {
   "cell_type": "code",
   "execution_count": 22,
   "metadata": {},
   "outputs": [
    {
     "data": {
      "text/plain": [
       "<matplotlib.axes._subplots.AxesSubplot at 0x193aa726be0>"
      ]
     },
     "execution_count": 22,
     "metadata": {},
     "output_type": "execute_result"
    },
    {
     "data": {
      "image/png": "[encoded data removed]",
      "text/plain": [
       "<matplotlib.figure.Figure at 0x193aa70b6d8>"
      ]
     },
     "metadata": {
      "needs_background": "light"
     },
     "output_type": "display_data"
    }
   ],
   "source": [
    "data = pd.read_csv('../data/pfyh.csv', header=None, names=[\n",
    "    'date', 'open', 'high', 'low', 'close', 'ma5', 'ma10', 'volume'])\n",
    "data['date'] = data['date'].astype('M8[D]')\n",
    "data.plot(x='date', y='close', grid=True)"
   ]
  },
  {
   "cell_type": "code",
   "execution_count": 23,
   "metadata": {},
   "outputs": [
    {
     "data": {
      "text/html": [
       "<div>\n",
       "<style scoped>\n",
       "    .dataframe tbody tr th:only-of-type {\n",
       "        vertical-align: middle;\n",
       "    }\n",
       "\n",
       "    .dataframe tbody tr th {\n",
       "        vertical-align: top;\n",
       "    }\n",
       "\n",
       "    .dataframe thead th {\n",
       "        text-align: right;\n",
       "    }\n",
       "</style>\n",
       "<table border=\"1\" class=\"dataframe\">\n",
       "  <thead>\n",
       "    <tr style=\"text-align: right;\">\n",
       "      <th></th>\n",
       "      <th>date</th>\n",
       "      <th>open</th>\n",
       "      <th>high</th>\n",
       "      <th>low</th>\n",
       "      <th>close</th>\n",
       "      <th>ma5</th>\n",
       "      <th>ma10</th>\n",
       "      <th>volume</th>\n",
       "    </tr>\n",
       "  </thead>\n",
       "  <tbody>\n",
       "    <tr>\n",
       "      <th>0</th>\n",
       "      <td>2018-01-02</td>\n",
       "      <td>12.61</td>\n",
       "      <td>12.77</td>\n",
       "      <td>12.60</td>\n",
       "      <td>12.73</td>\n",
       "      <td>12.624</td>\n",
       "      <td>12.650</td>\n",
       "      <td>313230.53</td>\n",
       "    </tr>\n",
       "    <tr>\n",
       "      <th>1</th>\n",
       "      <td>2018-01-03</td>\n",
       "      <td>12.73</td>\n",
       "      <td>12.80</td>\n",
       "      <td>12.66</td>\n",
       "      <td>12.67</td>\n",
       "      <td>12.630</td>\n",
       "      <td>12.642</td>\n",
       "      <td>378391.00</td>\n",
       "    </tr>\n",
       "    <tr>\n",
       "      <th>2</th>\n",
       "      <td>2018-01-04</td>\n",
       "      <td>12.70</td>\n",
       "      <td>12.73</td>\n",
       "      <td>12.62</td>\n",
       "      <td>12.66</td>\n",
       "      <td>12.638</td>\n",
       "      <td>12.637</td>\n",
       "      <td>278838.03</td>\n",
       "    </tr>\n",
       "    <tr>\n",
       "      <th>3</th>\n",
       "      <td>2018-01-05</td>\n",
       "      <td>12.67</td>\n",
       "      <td>12.71</td>\n",
       "      <td>12.62</td>\n",
       "      <td>12.69</td>\n",
       "      <td>12.668</td>\n",
       "      <td>12.636</td>\n",
       "      <td>310267.44</td>\n",
       "    </tr>\n",
       "    <tr>\n",
       "      <th>4</th>\n",
       "      <td>2018-01-08</td>\n",
       "      <td>12.69</td>\n",
       "      <td>12.71</td>\n",
       "      <td>12.63</td>\n",
       "      <td>12.68</td>\n",
       "      <td>12.686</td>\n",
       "      <td>12.642</td>\n",
       "      <td>313898.88</td>\n",
       "    </tr>\n",
       "  </tbody>\n",
       "</table>\n",
       "</div>"
      ],
      "text/plain": [
       "        date   open   high    low  close     ma5    ma10     volume\n",
       "0 2018-01-02  12.61  12.77  12.60  12.73  12.624  12.650  313230.53\n",
       "1 2018-01-03  12.73  12.80  12.66  12.67  12.630  12.642  378391.00\n",
       "2 2018-01-04  12.70  12.73  12.62  12.66  12.638  12.637  278838.03\n",
       "3 2018-01-05  12.67  12.71  12.62  12.69  12.668  12.636  310267.44\n",
       "4 2018-01-08  12.69  12.71  12.63  12.68  12.686  12.642  313898.88"
      ]
     },
     "execution_count": 23,
     "metadata": {},
     "output_type": "execute_result"
    }
   ],
   "source": [
    "data.head()"
   ]
  },
  {
   "cell_type": "code",
   "execution_count": 72,
   "metadata": {
    "scrolled": false
   },
   "outputs": [
    {
     "data": {
      "image/png": "[encoded data removed]",
      "text/plain": [
       "<matplotlib.figure.Figure at 0x193ac413438>"
      ]
     },
     "metadata": {
      "needs_background": "light"
     },
     "output_type": "display_data"
    }
   ],
   "source": [
    "import tushare as ts\n",
    "data = ts.get_hist_data('600809')\n",
    "data = data.reset_index().sort_values(by='date')\n",
    "data.plot(x='date', y='close', grid=True)\n",
    "data.index = np.arange(len(data))"
   ]
  },
  {
   "cell_type": "code",
   "execution_count": 73,
   "metadata": {},
   "outputs": [
    {
     "data": {
      "text/plain": [
       "array([ 0,  1,  1,  1,  1, -1,  1, -1,  1,  0,  0,  0,  0,  0, -1,  0,  0,\n",
       "        0,  0,  0,  0,  0,  0,  0,  0,  0,  0,  0,  0,  0,  1,  0,  0,  0,\n",
       "        0,  0,  0,  0, -1,  0,  0,  0,  0,  0,  0,  0,  0,  1,  0,  0,  0,\n",
       "       -1,  0,  0,  0,  0,  0,  0,  0,  0,  0,  0,  0,  0,  1,  0,  0,  0,\n",
       "        0,  0,  0,  0,  0,  0,  0,  0,  0,  0,  0,  0, -1,  0,  0,  0,  0,\n",
       "        0,  0,  0,  0,  0,  0,  1,  0,  0,  0,  0,  0,  0, -1,  0,  0,  0,\n",
       "        1,  0,  0,  0,  0,  0,  0,  0,  0,  0, -1,  0,  0,  0,  0,  0,  0,\n",
       "        0,  1,  0,  0,  0,  0,  0,  0,  0, -1,  0,  0,  0,  0,  1,  0,  0,\n",
       "        0,  0, -1,  0,  0,  0,  0,  0,  0,  0,  0,  0,  0,  0,  0,  1,  0,\n",
       "       -1,  0,  0,  0,  0,  1,  0,  0,  0,  0,  0,  0,  0,  0,  0,  0,  0,\n",
       "        0, -1,  0,  0,  0,  0,  0,  0,  0,  0,  0,  1,  0, -1,  0,  0,  0,\n",
       "        0,  0,  1,  0,  0,  0,  0, -1,  0,  0,  0,  0,  0,  0,  0,  0,  0,\n",
       "        1,  0,  0,  0,  0,  0,  0,  0,  0,  0, -1,  0,  0,  0,  0,  0,  0,\n",
       "        0,  0,  0,  0,  1,  0,  0, -1,  0,  0,  0,  0,  0,  1,  0,  0,  0,\n",
       "        0,  0,  0,  0,  0,  0,  0,  0,  0,  0, -1,  0,  0,  0,  0,  0,  0,\n",
       "        0,  0,  1, -1,  1,  0,  0, -1,  0,  0,  0,  0,  0,  0,  0,  0,  0,\n",
       "        0,  0,  0,  0,  0,  0,  1,  0,  0,  0,  0, -1,  0,  0,  0,  0,  0,\n",
       "        0,  1, -1,  0,  0,  0,  0,  1,  0,  0,  0,  0,  0,  0,  0,  0,  0,\n",
       "        0,  0,  0,  0,  0,  0,  0,  0,  0,  0,  0,  0,  0,  0,  0, -1,  0,\n",
       "        0,  1,  0,  0,  0,  0,  0,  0,  0,  0,  0,  0,  0,  0,  0,  0,  0,\n",
       "        0, -1,  0,  0,  0,  0,  0,  0,  0,  0,  0,  0,  0,  0,  0,  0,  0,\n",
       "        0,  0,  0,  0,  0,  0,  0,  1,  0,  0,  0, -1,  0,  0,  0,  0,  0,\n",
       "        0,  0,  0,  0,  0,  0,  0,  0,  0,  0,  1,  0, -1,  0,  0,  0,  0,\n",
       "        0,  0,  0,  1,  0,  0,  0,  0,  0,  0,  0,  0,  0,  0, -1,  0,  0,\n",
       "        0,  0,  0,  0,  0,  1,  0,  0,  0,  0,  0,  0,  0,  0,  0,  0, -1,\n",
       "        0,  0,  0,  0,  1,  0,  0,  0,  0,  0,  0,  0,  0,  0,  0,  0,  0,\n",
       "        0, -1,  0,  0,  0,  0,  0,  0,  1,  0,  0,  0,  0, -1,  0,  0,  0,\n",
       "        0,  0,  0,  0,  0,  0,  0,  0,  0,  0,  0,  0,  0,  0,  0,  0,  0,\n",
       "        0,  1,  0,  0,  0,  0, -1,  0,  0,  0,  0,  0,  1,  0,  0,  0,  0,\n",
       "        0,  0,  0,  0,  0,  0,  0,  0,  0,  0, -1,  0,  0,  0,  0,  1,  0,\n",
       "        0,  0,  0,  0,  0,  0,  0,  0,  0,  0,  0, -1,  0,  0,  0,  0,  0,\n",
       "        0,  0,  0,  0,  1,  0,  0,  0,  0,  0,  0,  0,  0,  0,  0,  0, -1,\n",
       "        0,  0,  0,  0,  0,  0,  0,  0,  0,  0,  0,  0,  0,  0,  0,  0,  0,\n",
       "        0,  0,  0,  1, -1,  0,  0,  1,  0,  0,  0,  0, -1,  0,  0,  0,  0,\n",
       "        0,  0,  1,  0, -1,  0,  1,  0,  0,  0,  0,  0,  0,  0, -1,  0,  0,\n",
       "        0])"
      ]
     },
     "execution_count": 73,
     "metadata": {},
     "output_type": "execute_result"
    }
   ],
   "source": [
    "# 声明一个函数，传入一个日期参数，假设该日期为当前日期，根据已知数据，返回策略输出-1（卖出）1（买入）0（持有）\n",
    "def profit(mdate):\n",
    "    # 基于均线理论，判断金叉死叉，返回相应结果。\n",
    "    mask = data['date']<=mdate\n",
    "    if len(data[mask]) < 2:\n",
    "        return 0\n",
    "    today_data = data[mask].iloc[-1]\n",
    "    yesday_data = data[mask].iloc[-2]\n",
    "    # 昨天的5日均线与10日均线\n",
    "    yma5, yma10 = yesday_data['ma5'], yesday_data['ma10']\n",
    "    # 今天的5日均线与10日均线\n",
    "    tma5, tma10 = today_data['ma5'], today_data['ma10']\n",
    "    # 判断金叉死叉\n",
    "    if (yma10>=yma5) and (tma10<=tma5): # 金叉\n",
    "        return 1\n",
    "    if (yma10<=yma5) and (tma10>=tma5): # 死叉\n",
    "        return -1\n",
    "    return 0\n",
    "    \n",
    "# 把profit函数矢量化处理\n",
    "profit_vec = np.vectorize(profit)\n",
    "result = profit_vec(data['date'])\n",
    "result"
   ]
  },
  {
   "cell_type": "code",
   "execution_count": 74,
   "metadata": {
    "scrolled": true
   },
   "outputs": [
    {
     "name": "stdout",
     "output_type": "stream",
     "text": [
      "买入：dates:2017-11-21, curr price:23.68, assets:17.28, stocks:42229\n",
      "卖出：dates:2017-11-27, curr price:23.22, assets:980574.66, stocks:0\n",
      "买入：dates:2017-11-28, curr price:24.19, assets:8.82, stocks:40536\n",
      "卖出：dates:2017-11-29, curr price:24.05, assets:974899.62, stocks:0\n",
      "买入：dates:2017-11-30, curr price:25.20, assets:12.42, stocks:38686\n",
      "止损：dates:2017-12-05, curr price:23.83, assets:921899.80, stocks:0\n",
      "买入：dates:2018-01-02, curr price:23.59, assets:2.60, stocks:39080\n",
      "卖出：dates:2018-01-12, curr price:23.51, assets:918773.40, stocks:0\n",
      "买入：dates:2018-01-25, curr price:23.25, assets:3.15, stocks:39517\n",
      "卖出：dates:2018-01-31, curr price:22.27, assets:880046.74, stocks:0\n",
      "买入：dates:2018-02-26, curr price:19.92, assets:1.06, stocks:44179\n",
      "卖出：dates:2018-03-20, curr price:20.17, assets:891091.49, stocks:0\n",
      "买入：dates:2018-04-04, curr price:18.91, assets:14.47, stocks:47122\n",
      "卖出：dates:2018-04-17, curr price:18.88, assets:889677.83, stocks:0\n",
      "买入：dates:2018-04-23, curr price:20.10, assets:11.63, stocks:44262\n",
      "卖出：dates:2018-05-09, curr price:21.47, assets:950316.77, stocks:0\n",
      "买入：dates:2018-05-21, curr price:22.41, assets:20.72, stocks:42405\n",
      "卖出：dates:2018-05-31, curr price:22.35, assets:947772.47, stocks:0\n",
      "买入：dates:2018-06-07, curr price:23.01, assets:13.58, stocks:41189\n",
      "止损：dates:2018-06-11, curr price:21.69, assets:893402.99, stocks:0\n",
      "买入：dates:2018-07-04, curr price:19.21, assets:3.52, stocks:46507\n",
      "止损：dates:2018-07-05, curr price:18.10, assets:841780.22, stocks:0\n",
      "买入：dates:2018-07-13, curr price:20.18, assets:11.88, stocks:41713\n",
      "卖出：dates:2018-08-01, curr price:20.12, assets:839277.44, stocks:0\n",
      "买入：dates:2018-08-15, curr price:19.47, assets:3.62, stocks:43106\n",
      "卖出：dates:2018-08-17, curr price:18.90, assets:814707.02, stocks:0\n",
      "买入：dates:2018-08-27, curr price:19.85, assets:3.47, stocks:41043\n",
      "卖出：dates:2018-09-03, curr price:19.29, assets:791722.94, stocks:0\n",
      "买入：dates:2018-09-17, curr price:19.46, assets:12.30, stocks:40684\n",
      "卖出：dates:2018-10-09, curr price:19.48, assets:792536.62, stocks:0\n",
      "买入：dates:2018-10-24, curr price:18.31, assets:6.58, stocks:43284\n",
      "止损：dates:2018-10-29, curr price:17.18, assets:743625.70, stocks:0\n",
      "买入：dates:2018-11-06, curr price:19.25, assets:17.45, stocks:38629\n",
      "止损：dates:2018-11-08, curr price:18.22, assets:703837.83, stocks:0\n",
      "买入：dates:2018-12-07, curr price:18.62, assets:1.83, stocks:37800\n",
      "卖出：dates:2018-12-10, curr price:18.62, assets:703837.83, stocks:0\n",
      "买入：dates:2018-12-11, curr price:18.72, assets:3.27, stocks:37598\n",
      "卖出：dates:2018-12-14, curr price:18.17, assets:683158.93, stocks:0\n",
      "买入：dates:2019-01-09, curr price:17.38, assets:3.27, stocks:39307\n",
      "卖出：dates:2019-01-16, curr price:17.32, assets:680800.51, stocks:0\n",
      "买入：dates:2019-01-25, curr price:17.08, assets:8.79, stocks:39859\n",
      "卖出：dates:2019-01-28, curr price:17.08, assets:680800.51, stocks:0\n",
      "买入：dates:2019-02-11, curr price:17.89, assets:14.45, stocks:38054\n",
      "卖出：dates:2019-03-18, curr price:21.13, assets:804095.47, stocks:0\n",
      "买入：dates:2019-03-21, curr price:21.55, assets:0.32, stocks:37313\n",
      "卖出：dates:2019-04-16, curr price:23.41, assets:873497.65, stocks:0\n",
      "买入：dates:2019-05-22, curr price:15.08, assets:3.73, stocks:57924\n",
      "止损：dates:2019-05-23, curr price:14.20, assets:822524.53, stocks:0\n",
      "买入：dates:2019-07-04, curr price:13.55, assets:12.43, stocks:60702\n",
      "卖出：dates:2019-07-08, curr price:12.93, assets:784889.29, stocks:0\n",
      "买入：dates:2019-07-18, curr price:12.88, assets:7.85, stocks:60938\n",
      "卖出：dates:2019-08-02, curr price:12.90, assets:786108.05, stocks:0\n",
      "买入：dates:2019-08-14, curr price:13.21, assets:7.37, stocks:59508\n",
      "卖出：dates:2019-08-29, curr price:14.12, assets:840260.33, stocks:0\n",
      "买入：dates:2019-09-05, curr price:14.56, assets:2.73, stocks:57710\n",
      "卖出：dates:2019-09-26, curr price:14.53, assets:838529.03, stocks:0\n",
      "买入：dates:2019-10-14, curr price:15.52, assets:14.47, stocks:54028\n",
      "止损：dates:2019-10-18, curr price:14.42, assets:779098.23, stocks:0\n",
      "买入：dates:2019-11-20, curr price:13.52, assets:8.23, stocks:57625\n",
      "卖出：dates:2019-11-27, curr price:13.49, assets:777369.48, stocks:0\n",
      "买入：dates:2019-12-05, curr price:13.60, assets:7.08, stocks:57159\n",
      "卖出：dates:2019-12-26, curr price:14.60, assets:834528.48, stocks:0\n",
      "买入：dates:2020-01-03, curr price:15.39, assets:5.73, stocks:54225\n",
      "卖出：dates:2020-01-22, curr price:14.81, assets:803077.98, stocks:0\n",
      "买入：dates:2020-02-13, curr price:12.85, assets:4.38, stocks:62496\n",
      "卖出：dates:2020-03-02, curr price:13.75, assets:859324.38, stocks:0\n",
      "买入：dates:2020-03-31, curr price:11.93, assets:6.48, stocks:72030\n",
      "卖出：dates:2020-04-01, curr price:11.94, assets:860044.68, stocks:0\n",
      "买入：dates:2020-04-07, curr price:12.38, assets:6.08, stocks:69470\n",
      "卖出：dates:2020-04-14, curr price:11.97, assets:831561.98, stocks:0\n",
      "买入：dates:2020-04-23, curr price:11.96, assets:7.10, stocks:69528\n",
      "卖出：dates:2020-04-27, curr price:11.88, assets:825999.74, stocks:0\n",
      "买入：dates:2020-04-29, curr price:12.19, assets:5.34, stocks:67760\n",
      "卖出：dates:2020-05-14, curr price:12.21, assets:827354.94, stocks:0\n",
      "持有：dates:2020-05-19, curr price:12.31, assets:827354.94, stocks:0\n"
     ]
    }
   ],
   "source": [
    "# 定义资产\n",
    "assets = 1000000\n",
    "stocks = 0\n",
    "payment_price = 0\n",
    "status = 0\n",
    "for index, profit in enumerate(result):\n",
    "    current_price = data['close'][index]\n",
    "    # 如果是买入并且赔了的状态，若已经跌出5%，则强制卖出\n",
    "    if status == 1:\n",
    "        payment_assets = payment_price * stocks\n",
    "        current_assets = current_price * stocks\n",
    "        if (payment_assets > current_assets) and ((payment_assets-current_assets) > payment_assets *0.05):\n",
    "            payment_price = current_price\n",
    "            assets = assets + stocks * payment_price\n",
    "            stocks = 0\n",
    "            status = -1\n",
    "            print('止损：dates:{}, curr price:{:.2f}, assets:{:.2f}, stocks:{:d}'.format(\n",
    "                data['date'][index], current_price, assets, stocks))\n",
    "    if (profit == 1) and (status != 1): # 买入\n",
    "        payment_price = current_price\n",
    "        stocks = int(assets / payment_price)\n",
    "        assets = assets - stocks * payment_price\n",
    "        status = 1\n",
    "        print('买入：dates:{}, curr price:{:.2f}, assets:{:.2f}, stocks:{:d}'.format(\n",
    "            data['date'][index], current_price, assets, stocks))\n",
    "    if (profit == -1) and (status != -1): # 卖出\n",
    "        payment_price = current_price\n",
    "        assets = assets + stocks * payment_price\n",
    "        stocks = 0\n",
    "        status = -1\n",
    "        print('卖出：dates:{}, curr price:{:.2f}, assets:{:.2f}, stocks:{:d}'.format(\n",
    "            data['date'][index], current_price, assets, stocks))\n",
    "print('持有：dates:{}, curr price:{:.2f}, assets:{:.2f}, stocks:{:d}'.format(\n",
    "    data['date'][index], current_price, assets, stocks))"
   ]
  },
  {
   "cell_type": "code",
   "execution_count": null,
   "metadata": {},
   "outputs": [],
   "source": []
  },
  {
   "cell_type": "code",
   "execution_count": null,
   "metadata": {},
   "outputs": [],
   "source": []
  }
 ],
 "metadata": {
  "kernelspec": {
   "display_name": "Python 3.6.4 64-bit ('aid': conda)",
   "language": "python",
   "name": "python36464bitaidcondae59d3bb693a64e389fabf1b849bb4be3"
  },
  "language_info": {
   "codemirror_mode": {
    "name": "ipython",
    "version": 3
   },
   "file_extension": ".py",
   "mimetype": "text/x-python",
   "name": "python",
   "nbconvert_exporter": "python",
   "pygments_lexer": "ipython3",
   "version": "3.6.4"
  }
 },
 "nbformat": 4,
 "nbformat_minor": 2
}
