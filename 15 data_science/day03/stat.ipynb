{
 "cells": [
  {
   "cell_type": "markdown",
   "metadata": {},
   "source": [
    "# stat.ipynb  数值描述性统计分析指标示例"
   ]
  },
  {
   "cell_type": "code",
   "execution_count": 2,
   "metadata": {},
   "outputs": [],
   "source": [
    "import pandas as pd\n",
    "import numpy as np"
   ]
  },
  {
   "cell_type": "code",
   "execution_count": 3,
   "metadata": {},
   "outputs": [
    {
     "data": {
      "text/html": [
       "<div>\n",
       "<style scoped>\n",
       "    .dataframe tbody tr th:only-of-type {\n",
       "        vertical-align: middle;\n",
       "    }\n",
       "\n",
       "    .dataframe tbody tr th {\n",
       "        vertical-align: top;\n",
       "    }\n",
       "\n",
       "    .dataframe thead th {\n",
       "        text-align: right;\n",
       "    }\n",
       "</style>\n",
       "<table border=\"1\" class=\"dataframe\">\n",
       "  <thead>\n",
       "    <tr style=\"text-align: right;\">\n",
       "      <th></th>\n",
       "      <th>John Carson</th>\n",
       "      <th>Michelle Peterson</th>\n",
       "      <th>William Reynolds</th>\n",
       "      <th>Jillian Hobart</th>\n",
       "      <th>Melissa Jones</th>\n",
       "      <th>Alex Roberts</th>\n",
       "      <th>Michael Henry</th>\n",
       "    </tr>\n",
       "  </thead>\n",
       "  <tbody>\n",
       "    <tr>\n",
       "      <th>Inception</th>\n",
       "      <td>2.5</td>\n",
       "      <td>3.0</td>\n",
       "      <td>2.5</td>\n",
       "      <td>NaN</td>\n",
       "      <td>3</td>\n",
       "      <td>3.0</td>\n",
       "      <td>NaN</td>\n",
       "    </tr>\n",
       "    <tr>\n",
       "      <th>Pulp Fiction</th>\n",
       "      <td>3.5</td>\n",
       "      <td>3.5</td>\n",
       "      <td>3.0</td>\n",
       "      <td>3.5</td>\n",
       "      <td>4</td>\n",
       "      <td>4.0</td>\n",
       "      <td>4.5</td>\n",
       "    </tr>\n",
       "    <tr>\n",
       "      <th>Anger Management</th>\n",
       "      <td>3.0</td>\n",
       "      <td>1.5</td>\n",
       "      <td>NaN</td>\n",
       "      <td>3.0</td>\n",
       "      <td>2</td>\n",
       "      <td>NaN</td>\n",
       "      <td>NaN</td>\n",
       "    </tr>\n",
       "    <tr>\n",
       "      <th>Fracture</th>\n",
       "      <td>3.5</td>\n",
       "      <td>5.0</td>\n",
       "      <td>3.5</td>\n",
       "      <td>4.0</td>\n",
       "      <td>3</td>\n",
       "      <td>5.0</td>\n",
       "      <td>4.0</td>\n",
       "    </tr>\n",
       "    <tr>\n",
       "      <th>Serendipity</th>\n",
       "      <td>2.5</td>\n",
       "      <td>3.5</td>\n",
       "      <td>NaN</td>\n",
       "      <td>2.5</td>\n",
       "      <td>2</td>\n",
       "      <td>3.5</td>\n",
       "      <td>1.0</td>\n",
       "    </tr>\n",
       "    <tr>\n",
       "      <th>Jerry Maguire</th>\n",
       "      <td>3.0</td>\n",
       "      <td>3.0</td>\n",
       "      <td>4.0</td>\n",
       "      <td>4.5</td>\n",
       "      <td>3</td>\n",
       "      <td>3.0</td>\n",
       "      <td>NaN</td>\n",
       "    </tr>\n",
       "  </tbody>\n",
       "</table>\n",
       "</div>"
      ],
      "text/plain": [
       "                  John Carson  Michelle Peterson  William Reynolds  \\\n",
       "Inception                 2.5                3.0               2.5   \n",
       "Pulp Fiction              3.5                3.5               3.0   \n",
       "Anger Management          3.0                1.5               NaN   \n",
       "Fracture                  3.5                5.0               3.5   \n",
       "Serendipity               2.5                3.5               NaN   \n",
       "Jerry Maguire             3.0                3.0               4.0   \n",
       "\n",
       "                  Jillian Hobart  Melissa Jones  Alex Roberts  Michael Henry  \n",
       "Inception                    NaN              3           3.0            NaN  \n",
       "Pulp Fiction                 3.5              4           4.0            4.5  \n",
       "Anger Management             3.0              2           NaN            NaN  \n",
       "Fracture                     4.0              3           5.0            4.0  \n",
       "Serendipity                  2.5              2           3.5            1.0  \n",
       "Jerry Maguire                4.5              3           3.0            NaN  "
      ]
     },
     "execution_count": 3,
     "metadata": {},
     "output_type": "execute_result"
    }
   ],
   "source": [
    "ratings = pd.read_json('../data/ratings.json')\n",
    "ratings"
   ]
  },
  {
   "cell_type": "markdown",
   "metadata": {},
   "source": [
    "# 均值"
   ]
  },
  {
   "cell_type": "code",
   "execution_count": 31,
   "metadata": {},
   "outputs": [
    {
     "data": {
      "text/plain": [
       "John Carson          3.000000\n",
       "Michelle Peterson    3.250000\n",
       "William Reynolds     3.250000\n",
       "Jillian Hobart       3.500000\n",
       "Melissa Jones        2.833333\n",
       "Alex Roberts         3.700000\n",
       "Michael Henry        3.166667\n",
       "dtype: float64"
      ]
     },
     "execution_count": 31,
     "metadata": {},
     "output_type": "execute_result"
    }
   ],
   "source": [
    "# 统计Fracture电影的平均分\n",
    "ratings.loc['Fracture'].mean()\n",
    "np.mean(ratings.loc['Fracture'])\n",
    "ratings.loc['Jerry Maguire'].mean()  # 忽略NaN\n",
    "ratings.mean()  # 默认垂直方向求均值\n",
    "ratings.mean(axis=0) "
   ]
  },
  {
   "cell_type": "markdown",
   "metadata": {},
   "source": [
    "# 加权均值"
   ]
  },
  {
   "cell_type": "code",
   "execution_count": 16,
   "metadata": {},
   "outputs": [
    {
     "name": "stdout",
     "output_type": "stream",
     "text": [
      "3.7916666666666665\n"
     ]
    },
    {
     "data": {
      "text/html": [
       "<div>\n",
       "<style scoped>\n",
       "    .dataframe tbody tr th:only-of-type {\n",
       "        vertical-align: middle;\n",
       "    }\n",
       "\n",
       "    .dataframe tbody tr th {\n",
       "        vertical-align: top;\n",
       "    }\n",
       "\n",
       "    .dataframe thead th {\n",
       "        text-align: right;\n",
       "    }\n",
       "</style>\n",
       "<table border=\"1\" class=\"dataframe\">\n",
       "  <thead>\n",
       "    <tr style=\"text-align: right;\">\n",
       "      <th></th>\n",
       "      <th>John Carson</th>\n",
       "      <th>Michelle Peterson</th>\n",
       "      <th>William Reynolds</th>\n",
       "      <th>Jillian Hobart</th>\n",
       "      <th>Melissa Jones</th>\n",
       "      <th>Alex Roberts</th>\n",
       "      <th>Michael Henry</th>\n",
       "    </tr>\n",
       "  </thead>\n",
       "  <tbody>\n",
       "    <tr>\n",
       "      <th>Inception</th>\n",
       "      <td>2.5</td>\n",
       "      <td>3.0</td>\n",
       "      <td>2.5</td>\n",
       "      <td>NaN</td>\n",
       "      <td>3</td>\n",
       "      <td>3.0</td>\n",
       "      <td>NaN</td>\n",
       "    </tr>\n",
       "    <tr>\n",
       "      <th>Pulp Fiction</th>\n",
       "      <td>3.5</td>\n",
       "      <td>3.5</td>\n",
       "      <td>3.0</td>\n",
       "      <td>3.5</td>\n",
       "      <td>4</td>\n",
       "      <td>4.0</td>\n",
       "      <td>4.5</td>\n",
       "    </tr>\n",
       "    <tr>\n",
       "      <th>Anger Management</th>\n",
       "      <td>3.0</td>\n",
       "      <td>1.5</td>\n",
       "      <td>NaN</td>\n",
       "      <td>3.0</td>\n",
       "      <td>2</td>\n",
       "      <td>NaN</td>\n",
       "      <td>NaN</td>\n",
       "    </tr>\n",
       "    <tr>\n",
       "      <th>Fracture</th>\n",
       "      <td>3.5</td>\n",
       "      <td>5.0</td>\n",
       "      <td>3.5</td>\n",
       "      <td>4.0</td>\n",
       "      <td>3</td>\n",
       "      <td>5.0</td>\n",
       "      <td>4.0</td>\n",
       "    </tr>\n",
       "    <tr>\n",
       "      <th>Serendipity</th>\n",
       "      <td>2.5</td>\n",
       "      <td>3.5</td>\n",
       "      <td>NaN</td>\n",
       "      <td>2.5</td>\n",
       "      <td>2</td>\n",
       "      <td>3.5</td>\n",
       "      <td>1.0</td>\n",
       "    </tr>\n",
       "    <tr>\n",
       "      <th>Jerry Maguire</th>\n",
       "      <td>3.0</td>\n",
       "      <td>3.0</td>\n",
       "      <td>4.0</td>\n",
       "      <td>4.5</td>\n",
       "      <td>3</td>\n",
       "      <td>3.0</td>\n",
       "      <td>NaN</td>\n",
       "    </tr>\n",
       "  </tbody>\n",
       "</table>\n",
       "</div>"
      ],
      "text/plain": [
       "                  John Carson  Michelle Peterson  William Reynolds  \\\n",
       "Inception                 2.5                3.0               2.5   \n",
       "Pulp Fiction              3.5                3.5               3.0   \n",
       "Anger Management          3.0                1.5               NaN   \n",
       "Fracture                  3.5                5.0               3.5   \n",
       "Serendipity               2.5                3.5               NaN   \n",
       "Jerry Maguire             3.0                3.0               4.0   \n",
       "\n",
       "                  Jillian Hobart  Melissa Jones  Alex Roberts  Michael Henry  \n",
       "Inception                    NaN              3           3.0            NaN  \n",
       "Pulp Fiction                 3.5              4           4.0            4.5  \n",
       "Anger Management             3.0              2           NaN            NaN  \n",
       "Fracture                     4.0              3           5.0            4.0  \n",
       "Serendipity                  2.5              2           3.5            1.0  \n",
       "Jerry Maguire                4.5              3           3.0            NaN  "
      ]
     },
     "execution_count": 16,
     "metadata": {},
     "output_type": "execute_result"
    }
   ],
   "source": [
    "# 加权平均值\n",
    "samples = ratings.loc['Fracture']\n",
    "weights = np.array([6, 1, 1, 1, 1, 1, 1])\n",
    "print(np.average(samples, weights=weights))\n",
    "ratings"
   ]
  },
  {
   "cell_type": "markdown",
   "metadata": {},
   "source": [
    "# 最值"
   ]
  },
  {
   "cell_type": "code",
   "execution_count": 30,
   "metadata": {},
   "outputs": [
    {
     "data": {
      "text/plain": [
       "Inception           Michelle Peterson\n",
       "Pulp Fiction            Michael Henry\n",
       "Anger Management          John Carson\n",
       "Fracture            Michelle Peterson\n",
       "Serendipity         Michelle Peterson\n",
       "Jerry Maguire          Jillian Hobart\n",
       "dtype: object"
      ]
     },
     "execution_count": 30,
     "metadata": {},
     "output_type": "execute_result"
    }
   ],
   "source": [
    "np.max(ratings['John Carson'])\n",
    "# np.argmax(ratings['John Carson'])\n",
    "ratings['John Carson'].idxmax()\n",
    "ratings['John Carson'].idxmin()\n",
    "\n",
    "# dataframe\n",
    "ratings.idxmax()\n",
    "ratings.idxmax(axis=1)\n"
   ]
  },
  {
   "cell_type": "code",
   "execution_count": 33,
   "metadata": {},
   "outputs": [
    {
     "data": {
      "text/plain": [
       "Inception           2.5\n",
       "Pulp Fiction        3.5\n",
       "Anger Management    1.5\n",
       "Fracture            3.5\n",
       "Serendipity         2.5\n",
       "Jerry Maguire       3.0\n",
       "dtype: float64"
      ]
     },
     "execution_count": 33,
     "metadata": {},
     "output_type": "execute_result"
    }
   ],
   "source": [
    "np.minimum(ratings['John Carson'], ratings['Michelle Peterson'])"
   ]
  },
  {
   "cell_type": "markdown",
   "metadata": {},
   "source": [
    "# 中位数"
   ]
  },
  {
   "cell_type": "code",
   "execution_count": 39,
   "metadata": {},
   "outputs": [
    {
     "data": {
      "text/plain": [
       "Inception           3.0\n",
       "Pulp Fiction        3.5\n",
       "Anger Management    2.5\n",
       "Fracture            4.0\n",
       "Serendipity         2.5\n",
       "Jerry Maguire       3.0\n",
       "dtype: float64"
      ]
     },
     "execution_count": 39,
     "metadata": {},
     "output_type": "execute_result"
    }
   ],
   "source": [
    "ratings['John Carson'].median()\n",
    "np.median(ratings['John Carson'])\n",
    "ratings.median()\n",
    "ratings.median(axis=1)"
   ]
  },
  {
   "cell_type": "code",
   "execution_count": 29,
   "metadata": {
    "scrolled": true
   },
   "outputs": [
    {
     "data": {
      "text/html": [
       "<div>\n",
       "<style scoped>\n",
       "    .dataframe tbody tr th:only-of-type {\n",
       "        vertical-align: middle;\n",
       "    }\n",
       "\n",
       "    .dataframe tbody tr th {\n",
       "        vertical-align: top;\n",
       "    }\n",
       "\n",
       "    .dataframe thead th {\n",
       "        text-align: right;\n",
       "    }\n",
       "</style>\n",
       "<table border=\"1\" class=\"dataframe\">\n",
       "  <thead>\n",
       "    <tr style=\"text-align: right;\">\n",
       "      <th></th>\n",
       "      <th>John Carson</th>\n",
       "      <th>Michelle Peterson</th>\n",
       "      <th>William Reynolds</th>\n",
       "      <th>Jillian Hobart</th>\n",
       "      <th>Melissa Jones</th>\n",
       "      <th>Alex Roberts</th>\n",
       "      <th>Michael Henry</th>\n",
       "    </tr>\n",
       "  </thead>\n",
       "  <tbody>\n",
       "    <tr>\n",
       "      <th>Inception</th>\n",
       "      <td>2.5</td>\n",
       "      <td>3.0</td>\n",
       "      <td>2.5</td>\n",
       "      <td>NaN</td>\n",
       "      <td>3</td>\n",
       "      <td>3.0</td>\n",
       "      <td>NaN</td>\n",
       "    </tr>\n",
       "    <tr>\n",
       "      <th>Pulp Fiction</th>\n",
       "      <td>3.5</td>\n",
       "      <td>3.5</td>\n",
       "      <td>3.0</td>\n",
       "      <td>3.5</td>\n",
       "      <td>4</td>\n",
       "      <td>4.0</td>\n",
       "      <td>4.5</td>\n",
       "    </tr>\n",
       "    <tr>\n",
       "      <th>Anger Management</th>\n",
       "      <td>3.0</td>\n",
       "      <td>1.5</td>\n",
       "      <td>NaN</td>\n",
       "      <td>3.0</td>\n",
       "      <td>2</td>\n",
       "      <td>NaN</td>\n",
       "      <td>NaN</td>\n",
       "    </tr>\n",
       "    <tr>\n",
       "      <th>Fracture</th>\n",
       "      <td>3.5</td>\n",
       "      <td>5.0</td>\n",
       "      <td>3.5</td>\n",
       "      <td>4.0</td>\n",
       "      <td>3</td>\n",
       "      <td>5.0</td>\n",
       "      <td>4.0</td>\n",
       "    </tr>\n",
       "    <tr>\n",
       "      <th>Serendipity</th>\n",
       "      <td>2.5</td>\n",
       "      <td>3.5</td>\n",
       "      <td>NaN</td>\n",
       "      <td>2.5</td>\n",
       "      <td>2</td>\n",
       "      <td>3.5</td>\n",
       "      <td>1.0</td>\n",
       "    </tr>\n",
       "    <tr>\n",
       "      <th>Jerry Maguire</th>\n",
       "      <td>3.0</td>\n",
       "      <td>3.0</td>\n",
       "      <td>4.0</td>\n",
       "      <td>4.5</td>\n",
       "      <td>3</td>\n",
       "      <td>3.0</td>\n",
       "      <td>NaN</td>\n",
       "    </tr>\n",
       "  </tbody>\n",
       "</table>\n",
       "</div>"
      ],
      "text/plain": [
       "                  John Carson  Michelle Peterson  William Reynolds  \\\n",
       "Inception                 2.5                3.0               2.5   \n",
       "Pulp Fiction              3.5                3.5               3.0   \n",
       "Anger Management          3.0                1.5               NaN   \n",
       "Fracture                  3.5                5.0               3.5   \n",
       "Serendipity               2.5                3.5               NaN   \n",
       "Jerry Maguire             3.0                3.0               4.0   \n",
       "\n",
       "                  Jillian Hobart  Melissa Jones  Alex Roberts  Michael Henry  \n",
       "Inception                    NaN              3           3.0            NaN  \n",
       "Pulp Fiction                 3.5              4           4.0            4.5  \n",
       "Anger Management             3.0              2           NaN            NaN  \n",
       "Fracture                     4.0              3           5.0            4.0  \n",
       "Serendipity                  2.5              2           3.5            1.0  \n",
       "Jerry Maguire                4.5              3           3.0            NaN  "
      ]
     },
     "execution_count": 29,
     "metadata": {},
     "output_type": "execute_result"
    }
   ],
   "source": [
    "ratings"
   ]
  },
  {
   "cell_type": "markdown",
   "metadata": {},
   "source": [
    "# 频数与众数"
   ]
  },
  {
   "cell_type": "code",
   "execution_count": 49,
   "metadata": {},
   "outputs": [
    {
     "data": {
      "text/plain": [
       "0    1\n",
       "dtype: int64"
      ]
     },
     "execution_count": 49,
     "metadata": {},
     "output_type": "execute_result"
    }
   ],
   "source": [
    "cars = np.array(['bmw', 'bmw', 'bz', 'audi', 'bz', 'bmw'])\n",
    "cars = pd.Series(cars)\n",
    "cars.value_counts()\n",
    "cars.mode()\n",
    "# 加载电信数据\n",
    "data = pd.read_excel('../data/电信用户流失数据/CustomerSurvival.xlsx')\n",
    "data['流失用户'].value_counts()  # 频数\n",
    "data['流失用户'].mode()  # 众数"
   ]
  },
  {
   "cell_type": "markdown",
   "metadata": {},
   "source": [
    "# 四分位数"
   ]
  },
  {
   "cell_type": "code",
   "execution_count": 53,
   "metadata": {},
   "outputs": [
    {
     "data": {
      "text/plain": [
       "0.00   -2828.333333\n",
       "0.25    -126.666667\n",
       "0.50      13.500000\n",
       "0.75     338.658333\n",
       "1.00    4314.000000\n",
       "Name: 额外通话时长, dtype: float64"
      ]
     },
     "execution_count": 53,
     "metadata": {},
     "output_type": "execute_result"
    }
   ],
   "source": [
    "data['额外通话时长'].mean()\n",
    "data['额外通话时长'].quantile([0, .25, .5, .75, 1])"
   ]
  },
  {
   "cell_type": "code",
   "execution_count": 57,
   "metadata": {},
   "outputs": [
    {
     "data": {
      "text/plain": [
       "0.00   -2189.875986\n",
       "0.25     -74.289824\n",
       "0.50     -59.652734\n",
       "0.75     -25.795045\n",
       "1.00    2568.704293\n",
       "Name: 额外流量, dtype: float64"
      ]
     },
     "execution_count": 57,
     "metadata": {},
     "output_type": "execute_result"
    }
   ],
   "source": [
    "data['额外流量'].mean()\n",
    "data['额外流量'].quantile([0, .25, .5, .75, 1])"
   ]
  },
  {
   "cell_type": "code",
   "execution_count": 45,
   "metadata": {},
   "outputs": [
    {
     "data": {
      "text/html": [
       "<div>\n",
       "<style scoped>\n",
       "    .dataframe tbody tr th:only-of-type {\n",
       "        vertical-align: middle;\n",
       "    }\n",
       "\n",
       "    .dataframe tbody tr th {\n",
       "        vertical-align: top;\n",
       "    }\n",
       "\n",
       "    .dataframe thead th {\n",
       "        text-align: right;\n",
       "    }\n",
       "</style>\n",
       "<table border=\"1\" class=\"dataframe\">\n",
       "  <thead>\n",
       "    <tr style=\"text-align: right;\">\n",
       "      <th></th>\n",
       "      <th>ID</th>\n",
       "      <th>套餐金额</th>\n",
       "      <th>额外通话时长</th>\n",
       "      <th>额外流量</th>\n",
       "      <th>改变行为</th>\n",
       "      <th>服务合约</th>\n",
       "      <th>关联购买</th>\n",
       "      <th>集团用户</th>\n",
       "      <th>使用月数</th>\n",
       "      <th>流失用户</th>\n",
       "    </tr>\n",
       "  </thead>\n",
       "  <tbody>\n",
       "    <tr>\n",
       "      <th>0</th>\n",
       "      <td>1</td>\n",
       "      <td>1</td>\n",
       "      <td>792.833333</td>\n",
       "      <td>-10.450067</td>\n",
       "      <td>0</td>\n",
       "      <td>0</td>\n",
       "      <td>0</td>\n",
       "      <td>0</td>\n",
       "      <td>25</td>\n",
       "      <td>0</td>\n",
       "    </tr>\n",
       "    <tr>\n",
       "      <th>1</th>\n",
       "      <td>2</td>\n",
       "      <td>1</td>\n",
       "      <td>121.666667</td>\n",
       "      <td>-21.141117</td>\n",
       "      <td>0</td>\n",
       "      <td>0</td>\n",
       "      <td>0</td>\n",
       "      <td>0</td>\n",
       "      <td>25</td>\n",
       "      <td>0</td>\n",
       "    </tr>\n",
       "    <tr>\n",
       "      <th>2</th>\n",
       "      <td>3</td>\n",
       "      <td>1</td>\n",
       "      <td>-30.000000</td>\n",
       "      <td>-25.655273</td>\n",
       "      <td>0</td>\n",
       "      <td>0</td>\n",
       "      <td>0</td>\n",
       "      <td>0</td>\n",
       "      <td>2</td>\n",
       "      <td>1</td>\n",
       "    </tr>\n",
       "    <tr>\n",
       "      <th>3</th>\n",
       "      <td>4</td>\n",
       "      <td>1</td>\n",
       "      <td>241.500000</td>\n",
       "      <td>-288.341254</td>\n",
       "      <td>0</td>\n",
       "      <td>1</td>\n",
       "      <td>0</td>\n",
       "      <td>1</td>\n",
       "      <td>25</td>\n",
       "      <td>0</td>\n",
       "    </tr>\n",
       "    <tr>\n",
       "      <th>4</th>\n",
       "      <td>5</td>\n",
       "      <td>1</td>\n",
       "      <td>1629.666667</td>\n",
       "      <td>-23.655505</td>\n",
       "      <td>0</td>\n",
       "      <td>0</td>\n",
       "      <td>0</td>\n",
       "      <td>1</td>\n",
       "      <td>25</td>\n",
       "      <td>0</td>\n",
       "    </tr>\n",
       "  </tbody>\n",
       "</table>\n",
       "</div>"
      ],
      "text/plain": [
       "   ID  套餐金额       额外通话时长        额外流量  改变行为  服务合约  关联购买  集团用户  使用月数  流失用户\n",
       "0   1     1   792.833333  -10.450067     0     0     0     0    25     0\n",
       "1   2     1   121.666667  -21.141117     0     0     0     0    25     0\n",
       "2   3     1   -30.000000  -25.655273     0     0     0     0     2     1\n",
       "3   4     1   241.500000 -288.341254     0     1     0     1    25     0\n",
       "4   5     1  1629.666667  -23.655505     0     0     0     1    25     0"
      ]
     },
     "execution_count": 45,
     "metadata": {},
     "output_type": "execute_result"
    }
   ],
   "source": [
    "data.head()"
   ]
  },
  {
   "cell_type": "markdown",
   "metadata": {},
   "source": [
    "# 标准差"
   ]
  },
  {
   "cell_type": "code",
   "execution_count": 64,
   "metadata": {},
   "outputs": [
    {
     "name": "stdout",
     "output_type": "stream",
     "text": [
      "0.48795003647426655 3.7142857142857144\n",
      "0.7637626158259734 4.0\n",
      "0.4517539514526256\n",
      "0.48795003647426655\n"
     ]
    }
   ],
   "source": [
    "print(ratings.loc['Pulp Fiction'].std(), ratings.loc['Pulp Fiction'].mean())\n",
    "print(ratings.loc['Fracture'].std(), ratings.loc['Fracture'].mean())\n",
    "\n",
    "# 总体标准差  样本标准差\n",
    "print(np.std(ratings.loc['Pulp Fiction']))  # 总体\n",
    "print(np.std(ratings.loc['Pulp Fiction'], ddof=1))  # 样本"
   ]
  },
  {
   "cell_type": "code",
   "execution_count": 67,
   "metadata": {},
   "outputs": [
    {
     "data": {
      "text/plain": [
       "John Carson          0.447214\n",
       "Michelle Peterson    1.129159\n",
       "William Reynolds     0.645497\n",
       "Jillian Hobart       0.790569\n",
       "Melissa Jones        0.752773\n",
       "Alex Roberts         0.836660\n",
       "Michael Henry        1.892969\n",
       "dtype: float64"
      ]
     },
     "execution_count": 67,
     "metadata": {},
     "output_type": "execute_result"
    }
   ],
   "source": [
    "ratings.std(axis=0)"
   ]
  },
  {
   "cell_type": "code",
   "execution_count": 69,
   "metadata": {},
   "outputs": [
    {
     "data": {
      "text/html": [
       "<div>\n",
       "<style scoped>\n",
       "    .dataframe tbody tr th:only-of-type {\n",
       "        vertical-align: middle;\n",
       "    }\n",
       "\n",
       "    .dataframe tbody tr th {\n",
       "        vertical-align: top;\n",
       "    }\n",
       "\n",
       "    .dataframe thead th {\n",
       "        text-align: right;\n",
       "    }\n",
       "</style>\n",
       "<table border=\"1\" class=\"dataframe\">\n",
       "  <thead>\n",
       "    <tr style=\"text-align: right;\">\n",
       "      <th></th>\n",
       "      <th>ID</th>\n",
       "      <th>套餐金额</th>\n",
       "      <th>额外通话时长</th>\n",
       "      <th>额外流量</th>\n",
       "      <th>改变行为</th>\n",
       "      <th>服务合约</th>\n",
       "      <th>关联购买</th>\n",
       "      <th>集团用户</th>\n",
       "      <th>使用月数</th>\n",
       "      <th>流失用户</th>\n",
       "    </tr>\n",
       "  </thead>\n",
       "  <tbody>\n",
       "    <tr>\n",
       "      <th>count</th>\n",
       "      <td>4975.000000</td>\n",
       "      <td>4975.000000</td>\n",
       "      <td>4975.000000</td>\n",
       "      <td>4975.000000</td>\n",
       "      <td>4975.000000</td>\n",
       "      <td>4975.000000</td>\n",
       "      <td>4975.000000</td>\n",
       "      <td>4975.000000</td>\n",
       "      <td>4975.000000</td>\n",
       "      <td>4975.000000</td>\n",
       "    </tr>\n",
       "    <tr>\n",
       "      <th>mean</th>\n",
       "      <td>2488.000000</td>\n",
       "      <td>1.057688</td>\n",
       "      <td>258.520030</td>\n",
       "      <td>-71.580403</td>\n",
       "      <td>0.021307</td>\n",
       "      <td>0.245226</td>\n",
       "      <td>0.047437</td>\n",
       "      <td>0.227337</td>\n",
       "      <td>14.774271</td>\n",
       "      <td>0.782714</td>\n",
       "    </tr>\n",
       "    <tr>\n",
       "      <th>std</th>\n",
       "      <td>1436.303125</td>\n",
       "      <td>0.258527</td>\n",
       "      <td>723.057190</td>\n",
       "      <td>275.557448</td>\n",
       "      <td>0.144419</td>\n",
       "      <td>0.430264</td>\n",
       "      <td>0.278143</td>\n",
       "      <td>0.419154</td>\n",
       "      <td>6.534273</td>\n",
       "      <td>0.412441</td>\n",
       "    </tr>\n",
       "    <tr>\n",
       "      <th>min</th>\n",
       "      <td>1.000000</td>\n",
       "      <td>1.000000</td>\n",
       "      <td>-2828.333333</td>\n",
       "      <td>-2189.875986</td>\n",
       "      <td>0.000000</td>\n",
       "      <td>0.000000</td>\n",
       "      <td>0.000000</td>\n",
       "      <td>0.000000</td>\n",
       "      <td>1.000000</td>\n",
       "      <td>0.000000</td>\n",
       "    </tr>\n",
       "    <tr>\n",
       "      <th>25%</th>\n",
       "      <td>1244.500000</td>\n",
       "      <td>1.000000</td>\n",
       "      <td>-126.666667</td>\n",
       "      <td>-74.289824</td>\n",
       "      <td>0.000000</td>\n",
       "      <td>0.000000</td>\n",
       "      <td>0.000000</td>\n",
       "      <td>0.000000</td>\n",
       "      <td>13.000000</td>\n",
       "      <td>1.000000</td>\n",
       "    </tr>\n",
       "    <tr>\n",
       "      <th>50%</th>\n",
       "      <td>2488.000000</td>\n",
       "      <td>1.000000</td>\n",
       "      <td>13.500000</td>\n",
       "      <td>-59.652734</td>\n",
       "      <td>0.000000</td>\n",
       "      <td>0.000000</td>\n",
       "      <td>0.000000</td>\n",
       "      <td>0.000000</td>\n",
       "      <td>13.000000</td>\n",
       "      <td>1.000000</td>\n",
       "    </tr>\n",
       "    <tr>\n",
       "      <th>75%</th>\n",
       "      <td>3731.500000</td>\n",
       "      <td>1.000000</td>\n",
       "      <td>338.658333</td>\n",
       "      <td>-25.795045</td>\n",
       "      <td>0.000000</td>\n",
       "      <td>0.000000</td>\n",
       "      <td>0.000000</td>\n",
       "      <td>0.000000</td>\n",
       "      <td>19.000000</td>\n",
       "      <td>1.000000</td>\n",
       "    </tr>\n",
       "    <tr>\n",
       "      <th>max</th>\n",
       "      <td>4975.000000</td>\n",
       "      <td>3.000000</td>\n",
       "      <td>4314.000000</td>\n",
       "      <td>2568.704293</td>\n",
       "      <td>1.000000</td>\n",
       "      <td>1.000000</td>\n",
       "      <td>2.000000</td>\n",
       "      <td>1.000000</td>\n",
       "      <td>25.000000</td>\n",
       "      <td>1.000000</td>\n",
       "    </tr>\n",
       "  </tbody>\n",
       "</table>\n",
       "</div>"
      ],
      "text/plain": [
       "                ID         套餐金额       额外通话时长         额外流量         改变行为  \\\n",
       "count  4975.000000  4975.000000  4975.000000  4975.000000  4975.000000   \n",
       "mean   2488.000000     1.057688   258.520030   -71.580403     0.021307   \n",
       "std    1436.303125     0.258527   723.057190   275.557448     0.144419   \n",
       "min       1.000000     1.000000 -2828.333333 -2189.875986     0.000000   \n",
       "25%    1244.500000     1.000000  -126.666667   -74.289824     0.000000   \n",
       "50%    2488.000000     1.000000    13.500000   -59.652734     0.000000   \n",
       "75%    3731.500000     1.000000   338.658333   -25.795045     0.000000   \n",
       "max    4975.000000     3.000000  4314.000000  2568.704293     1.000000   \n",
       "\n",
       "              服务合约         关联购买         集团用户         使用月数         流失用户  \n",
       "count  4975.000000  4975.000000  4975.000000  4975.000000  4975.000000  \n",
       "mean      0.245226     0.047437     0.227337    14.774271     0.782714  \n",
       "std       0.430264     0.278143     0.419154     6.534273     0.412441  \n",
       "min       0.000000     0.000000     0.000000     1.000000     0.000000  \n",
       "25%       0.000000     0.000000     0.000000    13.000000     1.000000  \n",
       "50%       0.000000     0.000000     0.000000    13.000000     1.000000  \n",
       "75%       0.000000     0.000000     0.000000    19.000000     1.000000  \n",
       "max       1.000000     2.000000     1.000000    25.000000     1.000000  "
      ]
     },
     "execution_count": 69,
     "metadata": {},
     "output_type": "execute_result"
    }
   ],
   "source": [
    "ratings.describe()   # 宏观描述性统计\n",
    "data.describe()"
   ]
  },
  {
   "cell_type": "markdown",
   "metadata": {},
   "source": [
    "# 协方差，相关矩阵，相关系数"
   ]
  },
  {
   "cell_type": "code",
   "execution_count": 77,
   "metadata": {},
   "outputs": [
    {
     "data": {
      "text/plain": [
       "0.16666666666666666"
      ]
     },
     "execution_count": 77,
     "metadata": {},
     "output_type": "execute_result"
    }
   ],
   "source": [
    "a = ratings['John Carson']\n",
    "b = ratings['Michelle Peterson']\n",
    "# 计算两组数据的协方差\n",
    "a_mean = a.mean()\n",
    "b_mean = b.mean()\n",
    "a_dev = a - a_mean\n",
    "b_dev = b - b_mean\n",
    "# 协方差\n",
    "cov_ab = np.mean(a_dev * b_dev)\n",
    "cov_ab"
   ]
  },
  {
   "cell_type": "markdown",
   "metadata": {},
   "source": [
    "##### 计算得到的协方差可以评估正相关或反相关，但评估不了两组数据的相关程度。\n",
    "##### 所以通常计算a与b的cov_ab， b与c的cov_bc，然后进行比较，从而得到b与谁相关性更强。"
   ]
  },
  {
   "cell_type": "markdown",
   "metadata": {},
   "source": [
    "## 相关系数"
   ]
  },
  {
   "cell_type": "code",
   "execution_count": 83,
   "metadata": {},
   "outputs": [
    {
     "name": "stdout",
     "output_type": "stream",
     "text": [
      "0.3960590171906697\n",
      "[[1.         0.39605902]\n",
      " [0.39605902 1.        ]]\n",
      "0.3960590171906697\n",
      "[[1.         0.39605902 0.59408853]\n",
      " [0.39605902 1.         0.41176471]\n",
      " [0.59408853 0.41176471 1.        ]]\n"
     ]
    }
   ],
   "source": [
    "cor = cov_ab / (np.std(a) * np.std(b))\n",
    "print(cor)\n",
    "print(np.corrcoef(a, b))\n",
    "print(np.corrcoef(a, b)[0, 1])\n",
    "# 输出三组数据之间的相关系数\n",
    "c = ratings['Melissa Jones']\n",
    "print(np.corrcoef((a, b, c)))"
   ]
  },
  {
   "cell_type": "code",
   "execution_count": 84,
   "metadata": {},
   "outputs": [
    {
     "data": {
      "text/html": [
       "<div>\n",
       "<style scoped>\n",
       "    .dataframe tbody tr th:only-of-type {\n",
       "        vertical-align: middle;\n",
       "    }\n",
       "\n",
       "    .dataframe tbody tr th {\n",
       "        vertical-align: top;\n",
       "    }\n",
       "\n",
       "    .dataframe thead th {\n",
       "        text-align: right;\n",
       "    }\n",
       "</style>\n",
       "<table border=\"1\" class=\"dataframe\">\n",
       "  <thead>\n",
       "    <tr style=\"text-align: right;\">\n",
       "      <th></th>\n",
       "      <th>John Carson</th>\n",
       "      <th>Michelle Peterson</th>\n",
       "      <th>William Reynolds</th>\n",
       "      <th>Jillian Hobart</th>\n",
       "      <th>Melissa Jones</th>\n",
       "      <th>Alex Roberts</th>\n",
       "      <th>Michael Henry</th>\n",
       "    </tr>\n",
       "  </thead>\n",
       "  <tbody>\n",
       "    <tr>\n",
       "      <th>John Carson</th>\n",
       "      <td>1.000000</td>\n",
       "      <td>0.396059</td>\n",
       "      <td>0.404520</td>\n",
       "      <td>0.566947</td>\n",
       "      <td>0.594089</td>\n",
       "      <td>0.747018</td>\n",
       "      <td>0.991241</td>\n",
       "    </tr>\n",
       "    <tr>\n",
       "      <th>Michelle Peterson</th>\n",
       "      <td>0.396059</td>\n",
       "      <td>1.000000</td>\n",
       "      <td>0.204598</td>\n",
       "      <td>0.314970</td>\n",
       "      <td>0.411765</td>\n",
       "      <td>0.963796</td>\n",
       "      <td>0.381246</td>\n",
       "    </tr>\n",
       "    <tr>\n",
       "      <th>William Reynolds</th>\n",
       "      <td>0.404520</td>\n",
       "      <td>0.204598</td>\n",
       "      <td>1.000000</td>\n",
       "      <td>1.000000</td>\n",
       "      <td>-0.258199</td>\n",
       "      <td>0.134840</td>\n",
       "      <td>-1.000000</td>\n",
       "    </tr>\n",
       "    <tr>\n",
       "      <th>Jillian Hobart</th>\n",
       "      <td>0.566947</td>\n",
       "      <td>0.314970</td>\n",
       "      <td>1.000000</td>\n",
       "      <td>1.000000</td>\n",
       "      <td>0.566947</td>\n",
       "      <td>0.028571</td>\n",
       "      <td>0.893405</td>\n",
       "    </tr>\n",
       "    <tr>\n",
       "      <th>Melissa Jones</th>\n",
       "      <td>0.594089</td>\n",
       "      <td>0.411765</td>\n",
       "      <td>-0.258199</td>\n",
       "      <td>0.566947</td>\n",
       "      <td>1.000000</td>\n",
       "      <td>0.211289</td>\n",
       "      <td>0.924473</td>\n",
       "    </tr>\n",
       "    <tr>\n",
       "      <th>Alex Roberts</th>\n",
       "      <td>0.747018</td>\n",
       "      <td>0.963796</td>\n",
       "      <td>0.134840</td>\n",
       "      <td>0.028571</td>\n",
       "      <td>0.211289</td>\n",
       "      <td>1.000000</td>\n",
       "      <td>0.662849</td>\n",
       "    </tr>\n",
       "    <tr>\n",
       "      <th>Michael Henry</th>\n",
       "      <td>0.991241</td>\n",
       "      <td>0.381246</td>\n",
       "      <td>-1.000000</td>\n",
       "      <td>0.893405</td>\n",
       "      <td>0.924473</td>\n",
       "      <td>0.662849</td>\n",
       "      <td>1.000000</td>\n",
       "    </tr>\n",
       "  </tbody>\n",
       "</table>\n",
       "</div>"
      ],
      "text/plain": [
       "                   John Carson  Michelle Peterson  William Reynolds  \\\n",
       "John Carson           1.000000           0.396059          0.404520   \n",
       "Michelle Peterson     0.396059           1.000000          0.204598   \n",
       "William Reynolds      0.404520           0.204598          1.000000   \n",
       "Jillian Hobart        0.566947           0.314970          1.000000   \n",
       "Melissa Jones         0.594089           0.411765         -0.258199   \n",
       "Alex Roberts          0.747018           0.963796          0.134840   \n",
       "Michael Henry         0.991241           0.381246         -1.000000   \n",
       "\n",
       "                   Jillian Hobart  Melissa Jones  Alex Roberts  Michael Henry  \n",
       "John Carson              0.566947       0.594089      0.747018       0.991241  \n",
       "Michelle Peterson        0.314970       0.411765      0.963796       0.381246  \n",
       "William Reynolds         1.000000      -0.258199      0.134840      -1.000000  \n",
       "Jillian Hobart           1.000000       0.566947      0.028571       0.893405  \n",
       "Melissa Jones            0.566947       1.000000      0.211289       0.924473  \n",
       "Alex Roberts             0.028571       0.211289      1.000000       0.662849  \n",
       "Michael Henry            0.893405       0.924473      0.662849       1.000000  "
      ]
     },
     "execution_count": 84,
     "metadata": {},
     "output_type": "execute_result"
    }
   ],
   "source": [
    "ratings.corr()"
   ]
  },
  {
   "cell_type": "code",
   "execution_count": 58,
   "metadata": {},
   "outputs": [
    {
     "data": {
      "text/html": [
       "<div>\n",
       "<style scoped>\n",
       "    .dataframe tbody tr th:only-of-type {\n",
       "        vertical-align: middle;\n",
       "    }\n",
       "\n",
       "    .dataframe tbody tr th {\n",
       "        vertical-align: top;\n",
       "    }\n",
       "\n",
       "    .dataframe thead th {\n",
       "        text-align: right;\n",
       "    }\n",
       "</style>\n",
       "<table border=\"1\" class=\"dataframe\">\n",
       "  <thead>\n",
       "    <tr style=\"text-align: right;\">\n",
       "      <th></th>\n",
       "      <th>John Carson</th>\n",
       "      <th>Michelle Peterson</th>\n",
       "      <th>William Reynolds</th>\n",
       "      <th>Jillian Hobart</th>\n",
       "      <th>Melissa Jones</th>\n",
       "      <th>Alex Roberts</th>\n",
       "      <th>Michael Henry</th>\n",
       "    </tr>\n",
       "  </thead>\n",
       "  <tbody>\n",
       "    <tr>\n",
       "      <th>Inception</th>\n",
       "      <td>2.5</td>\n",
       "      <td>3.0</td>\n",
       "      <td>2.5</td>\n",
       "      <td>NaN</td>\n",
       "      <td>3</td>\n",
       "      <td>3.0</td>\n",
       "      <td>NaN</td>\n",
       "    </tr>\n",
       "    <tr>\n",
       "      <th>Pulp Fiction</th>\n",
       "      <td>3.5</td>\n",
       "      <td>3.5</td>\n",
       "      <td>3.0</td>\n",
       "      <td>3.5</td>\n",
       "      <td>4</td>\n",
       "      <td>4.0</td>\n",
       "      <td>4.5</td>\n",
       "    </tr>\n",
       "    <tr>\n",
       "      <th>Anger Management</th>\n",
       "      <td>3.0</td>\n",
       "      <td>1.5</td>\n",
       "      <td>NaN</td>\n",
       "      <td>3.0</td>\n",
       "      <td>2</td>\n",
       "      <td>NaN</td>\n",
       "      <td>NaN</td>\n",
       "    </tr>\n",
       "    <tr>\n",
       "      <th>Fracture</th>\n",
       "      <td>3.5</td>\n",
       "      <td>5.0</td>\n",
       "      <td>3.5</td>\n",
       "      <td>4.0</td>\n",
       "      <td>3</td>\n",
       "      <td>5.0</td>\n",
       "      <td>4.0</td>\n",
       "    </tr>\n",
       "    <tr>\n",
       "      <th>Serendipity</th>\n",
       "      <td>2.5</td>\n",
       "      <td>3.5</td>\n",
       "      <td>NaN</td>\n",
       "      <td>2.5</td>\n",
       "      <td>2</td>\n",
       "      <td>3.5</td>\n",
       "      <td>1.0</td>\n",
       "    </tr>\n",
       "    <tr>\n",
       "      <th>Jerry Maguire</th>\n",
       "      <td>3.0</td>\n",
       "      <td>3.0</td>\n",
       "      <td>4.0</td>\n",
       "      <td>4.5</td>\n",
       "      <td>3</td>\n",
       "      <td>3.0</td>\n",
       "      <td>NaN</td>\n",
       "    </tr>\n",
       "  </tbody>\n",
       "</table>\n",
       "</div>"
      ],
      "text/plain": [
       "                  John Carson  Michelle Peterson  William Reynolds  \\\n",
       "Inception                 2.5                3.0               2.5   \n",
       "Pulp Fiction              3.5                3.5               3.0   \n",
       "Anger Management          3.0                1.5               NaN   \n",
       "Fracture                  3.5                5.0               3.5   \n",
       "Serendipity               2.5                3.5               NaN   \n",
       "Jerry Maguire             3.0                3.0               4.0   \n",
       "\n",
       "                  Jillian Hobart  Melissa Jones  Alex Roberts  Michael Henry  \n",
       "Inception                    NaN              3           3.0            NaN  \n",
       "Pulp Fiction                 3.5              4           4.0            4.5  \n",
       "Anger Management             3.0              2           NaN            NaN  \n",
       "Fracture                     4.0              3           5.0            4.0  \n",
       "Serendipity                  2.5              2           3.5            1.0  \n",
       "Jerry Maguire                4.5              3           3.0            NaN  "
      ]
     },
     "execution_count": 58,
     "metadata": {},
     "output_type": "execute_result"
    }
   ],
   "source": [
    "ratings"
   ]
  },
  {
   "cell_type": "code",
   "execution_count": null,
   "metadata": {},
   "outputs": [],
   "source": []
  },
  {
   "cell_type": "code",
   "execution_count": null,
   "metadata": {},
   "outputs": [],
   "source": []
  }
 ],
 "metadata": {
  "kernelspec": {
   "display_name": "Python 3.6.4 64-bit ('aid': conda)",
   "language": "python",
   "name": "python36464bitaidcondae59d3bb693a64e389fabf1b849bb4be3"
  },
  "language_info": {
   "codemirror_mode": {
    "name": "ipython",
    "version": 3
   },
   "file_extension": ".py",
   "mimetype": "text/x-python",
   "name": "python",
   "nbconvert_exporter": "python",
   "pygments_lexer": "ipython3",
   "version": "3.6.4"
  }
 },
 "nbformat": 4,
 "nbformat_minor": 2
}
