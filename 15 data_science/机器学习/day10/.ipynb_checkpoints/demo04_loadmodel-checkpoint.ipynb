{
 "cells": [
  {
   "cell_type": "markdown",
   "metadata": {},
   "source": [
    "# demo04_loadmodel.ipynb   加载模型  封装模型"
   ]
  },
  {
   "cell_type": "code",
   "execution_count": 1,
   "metadata": {},
   "outputs": [],
   "source": [
    "import pandas as pd\n",
    "import numpy as np\n",
    "import pickle"
   ]
  },
  {
   "cell_type": "code",
   "execution_count": 2,
   "metadata": {},
   "outputs": [],
   "source": [
    "# 加载pickle文件\n",
    "with open('SalaryPredictionModel.pkl', 'rb') as f:\n",
    "    model = pickle.load(f)"
   ]
  },
  {
   "cell_type": "code",
   "execution_count": 3,
   "metadata": {},
   "outputs": [
    {
     "data": {
      "text/plain": [
       "array([ 98155.71633364,  80295.68584163, 139515.78694672, 158315.81904358])"
      ]
     },
     "execution_count": 3,
     "metadata": {},
     "output_type": "execute_result"
    }
   ],
   "source": [
    "# 基于当前加载的模型完成薪资预测\n",
    "test_x = np.array([7.6, 5.7, 12, 14]).reshape(-1, 1)\n",
    "pred_y = model.predict(test_x)\n",
    "pred_y"
   ]
  },
  {
   "cell_type": "code",
   "execution_count": null,
   "metadata": {},
   "outputs": [],
   "source": []
  },
  {
   "cell_type": "markdown",
   "metadata": {},
   "source": [
    "## 把加载模型与预测的过程封装到一个类中，提供相关预测方法供别人调用"
   ]
  },
  {
   "cell_type": "code",
   "execution_count": 7,
   "metadata": {},
   "outputs": [],
   "source": [
    "class SalaryPredictionModel():\n",
    "    \n",
    "    def __init__(self):\n",
    "        with open('SalaryPredictionModel.pkl', 'rb') as f:\n",
    "            self.model = pickle.load(f)\n",
    "    \n",
    "    def predictSalary(self, yearexp_list):\n",
    "        \"\"\"\n",
    "        根据工作年限预测薪水\n",
    "        params:\n",
    "            yearexp_list: 工作年限列表  将会返回每个工龄所预测的薪水结果\n",
    "        \"\"\"\n",
    "        test_x = np.array(yearexp_list).reshape(-1, 1)\n",
    "        y = self.model.predict(test_x)\n",
    "        return y\n"
   ]
  },
  {
   "cell_type": "code",
   "execution_count": 8,
   "metadata": {},
   "outputs": [
    {
     "data": {
      "text/plain": [
       "array([ 43635.62325276,  91575.70509974, 148915.80299515, 214715.91533415])"
      ]
     },
     "execution_count": 8,
     "metadata": {},
     "output_type": "execute_result"
    }
   ],
   "source": [
    "model = SalaryPredictionModel()\n",
    "# model.predictSalary([[1.8], [6.9], [13], [20]])\n",
    "model.predictSalary([1.8, 6.9, 13, 20])\n"
   ]
  },
  {
   "cell_type": "code",
   "execution_count": null,
   "metadata": {},
   "outputs": [],
   "source": []
  },
  {
   "cell_type": "code",
   "execution_count": null,
   "metadata": {},
   "outputs": [],
   "source": []
  },
  {
   "cell_type": "code",
   "execution_count": null,
   "metadata": {},
   "outputs": [],
   "source": []
  },
  {
   "cell_type": "code",
   "execution_count": null,
   "metadata": {},
   "outputs": [],
   "source": []
  },
  {
   "cell_type": "code",
   "execution_count": null,
   "metadata": {},
   "outputs": [],
   "source": []
  }
 ],
 "metadata": {
  "kernelspec": {
   "display_name": "Python 3",
   "language": "python",
   "name": "python3"
  },
  "language_info": {
   "codemirror_mode": {
    "name": "ipython",
    "version": 3
   },
   "file_extension": ".py",
   "mimetype": "text/x-python",
   "name": "python",
   "nbconvert_exporter": "python",
   "pygments_lexer": "ipython3",
   "version": "3.6.4"
  }
 },
 "nbformat": 4,
 "nbformat_minor": 2
}
