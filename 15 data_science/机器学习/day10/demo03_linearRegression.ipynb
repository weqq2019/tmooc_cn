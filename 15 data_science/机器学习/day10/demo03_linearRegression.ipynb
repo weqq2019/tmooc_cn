{
 "cells": [
  {
   "cell_type": "markdown",
   "metadata": {},
   "source": [
    "# demo03_linearRegression.ipynb   sklearn提供的API实现线性回归"
   ]
  },
  {
   "cell_type": "code",
   "execution_count": 68,
   "metadata": {},
   "outputs": [],
   "source": [
    "import pandas as pd\n",
    "import numpy as np\n",
    "import matplotlib.pyplot as plt"
   ]
  },
  {
   "cell_type": "code",
   "execution_count": 69,
   "metadata": {},
   "outputs": [
    {
     "data": {
      "text/plain": [
       "((30, 1), (30,))"
      ]
     },
     "execution_count": 69,
     "metadata": {},
     "output_type": "execute_result"
    }
   ],
   "source": [
    "data = pd.read_csv('../data/Salary_Data.csv')\n",
    "x = data.loc[:, :'YearsExperience']   # 保证 x 是二维数组\n",
    "y = data['Salary']\n",
    "x.shape, y.shape"
   ]
  },
  {
   "cell_type": "code",
   "execution_count": 70,
   "metadata": {},
   "outputs": [
    {
     "data": {
      "text/plain": [
       "LinearRegression(copy_X=True, fit_intercept=True, n_jobs=1, normalize=False)"
      ]
     },
     "execution_count": 70,
     "metadata": {},
     "output_type": "execute_result"
    }
   ],
   "source": [
    "# 基于sklearn的API，训练线性回归模型\n",
    "import sklearn.linear_model as lm\n",
    "model = lm.LinearRegression()\n",
    "model.fit(x, y)"
   ]
  },
  {
   "cell_type": "code",
   "execution_count": 71,
   "metadata": {},
   "outputs": [
    {
     "name": "stdout",
     "output_type": "stream",
     "text": [
      "7.5 -> 96666.91760958177\n",
      "8.9 -> 109896.86485961887\n",
      "10.0 -> 120291.82341321945\n",
      "15.0 -> 167541.6350204948\n"
     ]
    }
   ],
   "source": [
    "test_x = np.array([7.5, 8.9, 10, 15])\n",
    "pred_y = model.predict(test_x.reshape(-1, 1))\n",
    "for a, b in zip(test_x, pred_y):\n",
    "    print(a, '->', b)"
   ]
  },
  {
   "cell_type": "markdown",
   "metadata": {},
   "source": [
    "## 评估回归模型的误差"
   ]
  },
  {
   "cell_type": "code",
   "execution_count": 72,
   "metadata": {},
   "outputs": [
    {
     "data": {
      "text/plain": [
       "(array([ 45515.62646244, 100975.72114817, 111315.73880144,  47395.62967213,\n",
       "         72775.67300289]), 3      43525\n",
       " 22    101302\n",
       " 25    105582\n",
       " 4      39891\n",
       " 15     67938\n",
       " Name: Salary, dtype: int64)"
      ]
     },
     "execution_count": 72,
     "metadata": {},
     "output_type": "execute_result"
    }
   ],
   "source": [
    "import sklearn.utils as su\n",
    "# 打乱数据集，拆分测试集与训练集  su.shuffle提供了打乱算法，给出x、y及随机种子\n",
    "# random_state：\n",
    "#  随机种子，当执行多次shuffle时，若每次的随机种子相同，则得到的随机结果一致。\n",
    "data_x, data_y = su.shuffle(x, y, random_state=7)\n",
    "# 拆分测试集与训练集   \n",
    "train_x, test_x, train_y, test_y = \\\n",
    "    data_x.iloc[:25], data_x.iloc[25:], data_y[:25], data_y[25:]\n",
    "\n",
    "# 重新训练模型\n",
    "model.fit(train_x, train_y)\n",
    "pred_test_y = model.predict(test_x) # 测试集的预测输出\n",
    "pred_test_y, test_y"
   ]
  },
  {
   "cell_type": "code",
   "execution_count": 73,
   "metadata": {},
   "outputs": [
    {
     "name": "stdout",
     "output_type": "stream",
     "text": [
      "4078.5893581460346\n",
      "23333471.76878661\n",
      "4837.673002885393\n",
      "0.9696498879448306\n"
     ]
    }
   ],
   "source": [
    "# 基于slearn.metrics模块提供的评估算法，评估模型的误差\n",
    "import sklearn.metrics as sm\n",
    "print(sm.mean_absolute_error(test_y, pred_test_y))\n",
    "print(sm.mean_squared_error(test_y, pred_test_y))\n",
    "print(sm.median_absolute_error(test_y, pred_test_y))\n",
    "print(sm.r2_score(test_y, pred_test_y))"
   ]
  },
  {
   "cell_type": "code",
   "execution_count": null,
   "metadata": {},
   "outputs": [],
   "source": []
  },
  {
   "cell_type": "markdown",
   "metadata": {},
   "source": [
    "## 保存模型"
   ]
  },
  {
   "cell_type": "code",
   "execution_count": 75,
   "metadata": {},
   "outputs": [
    {
     "name": "stdout",
     "output_type": "stream",
     "text": [
      "dump success.\n"
     ]
    }
   ],
   "source": [
    "import pickle\n",
    "with open('SalaryPredictionModel.pkl', 'wb') as f:\n",
    "    pickle.dump(model, f)\n",
    "print('dump success.')"
   ]
  },
  {
   "cell_type": "code",
   "execution_count": null,
   "metadata": {},
   "outputs": [],
   "source": []
  },
  {
   "cell_type": "code",
   "execution_count": null,
   "metadata": {},
   "outputs": [],
   "source": []
  },
  {
   "cell_type": "code",
   "execution_count": null,
   "metadata": {},
   "outputs": [],
   "source": []
  },
  {
   "cell_type": "code",
   "execution_count": null,
   "metadata": {},
   "outputs": [],
   "source": []
  },
  {
   "cell_type": "code",
   "execution_count": null,
   "metadata": {},
   "outputs": [],
   "source": []
  },
  {
   "cell_type": "code",
   "execution_count": null,
   "metadata": {},
   "outputs": [],
   "source": []
  }
 ],
 "metadata": {
  "kernelspec": {
   "display_name": "Python 3",
   "language": "python",
   "name": "python3"
  },
  "language_info": {
   "codemirror_mode": {
    "name": "ipython",
    "version": 3
   },
   "file_extension": ".py",
   "mimetype": "text/x-python",
   "name": "python",
   "nbconvert_exporter": "python",
   "pygments_lexer": "ipython3",
   "version": "3.6.4"
  }
 },
 "nbformat": 4,
 "nbformat_minor": 2
}
