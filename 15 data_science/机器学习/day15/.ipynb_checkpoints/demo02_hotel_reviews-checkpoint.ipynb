{
 "cells": [
  {
   "cell_type": "markdown",
   "metadata": {},
   "source": [
    "# demo02_hotel_reviews.ipynb    酒店评论分类    情感分析"
   ]
  },
  {
   "cell_type": "code",
   "execution_count": 40,
   "metadata": {},
   "outputs": [],
   "source": [
    "import jieba\n",
    "import pandas as pd\n",
    "import sklearn.naive_bayes as nb\n",
    "import sklearn.model_selection as ms\n",
    "import sklearn.metrics as sm\n",
    "\n",
    "jieba.load_userdict('userdict.txt')\n"
   ]
  },
  {
   "cell_type": "code",
   "execution_count": 41,
   "metadata": {},
   "outputs": [
    {
     "data": {
      "text/html": [
       "<div>\n",
       "<style scoped>\n",
       "    .dataframe tbody tr th:only-of-type {\n",
       "        vertical-align: middle;\n",
       "    }\n",
       "\n",
       "    .dataframe tbody tr th {\n",
       "        vertical-align: top;\n",
       "    }\n",
       "\n",
       "    .dataframe thead th {\n",
       "        text-align: right;\n",
       "    }\n",
       "</style>\n",
       "<table border=\"1\" class=\"dataframe\">\n",
       "  <thead>\n",
       "    <tr style=\"text-align: right;\">\n",
       "      <th></th>\n",
       "      <th>label</th>\n",
       "      <th>review</th>\n",
       "    </tr>\n",
       "  </thead>\n",
       "  <tbody>\n",
       "    <tr>\n",
       "      <th>count</th>\n",
       "      <td>7765.000000</td>\n",
       "      <td>7765</td>\n",
       "    </tr>\n",
       "    <tr>\n",
       "      <th>unique</th>\n",
       "      <td>NaN</td>\n",
       "      <td>7765</td>\n",
       "    </tr>\n",
       "    <tr>\n",
       "      <th>top</th>\n",
       "      <td>NaN</td>\n",
       "      <td>地理位置不错,房间对着中央大街,隔音玻璃还不错,街上的声音房间里听不到.需要提高的是卫生间里...</td>\n",
       "    </tr>\n",
       "    <tr>\n",
       "      <th>freq</th>\n",
       "      <td>NaN</td>\n",
       "      <td>1</td>\n",
       "    </tr>\n",
       "    <tr>\n",
       "      <th>mean</th>\n",
       "      <td>0.685383</td>\n",
       "      <td>NaN</td>\n",
       "    </tr>\n",
       "    <tr>\n",
       "      <th>std</th>\n",
       "      <td>0.464393</td>\n",
       "      <td>NaN</td>\n",
       "    </tr>\n",
       "    <tr>\n",
       "      <th>min</th>\n",
       "      <td>0.000000</td>\n",
       "      <td>NaN</td>\n",
       "    </tr>\n",
       "    <tr>\n",
       "      <th>25%</th>\n",
       "      <td>0.000000</td>\n",
       "      <td>NaN</td>\n",
       "    </tr>\n",
       "    <tr>\n",
       "      <th>50%</th>\n",
       "      <td>1.000000</td>\n",
       "      <td>NaN</td>\n",
       "    </tr>\n",
       "    <tr>\n",
       "      <th>75%</th>\n",
       "      <td>1.000000</td>\n",
       "      <td>NaN</td>\n",
       "    </tr>\n",
       "    <tr>\n",
       "      <th>max</th>\n",
       "      <td>1.000000</td>\n",
       "      <td>NaN</td>\n",
       "    </tr>\n",
       "  </tbody>\n",
       "</table>\n",
       "</div>"
      ],
      "text/plain": [
       "              label                                             review\n",
       "count   7765.000000                                               7765\n",
       "unique          NaN                                               7765\n",
       "top             NaN  地理位置不错,房间对着中央大街,隔音玻璃还不错,街上的声音房间里听不到.需要提高的是卫生间里...\n",
       "freq            NaN                                                  1\n",
       "mean       0.685383                                                NaN\n",
       "std        0.464393                                                NaN\n",
       "min        0.000000                                                NaN\n",
       "25%        0.000000                                                NaN\n",
       "50%        1.000000                                                NaN\n",
       "75%        1.000000                                                NaN\n",
       "max        1.000000                                                NaN"
      ]
     },
     "execution_count": 41,
     "metadata": {},
     "output_type": "execute_result"
    }
   ],
   "source": [
    "# 加载样本数据\n",
    "data = pd.read_csv('../data/htl_all.csv')\n",
    "data.describe(include=['object', 'number'])"
   ]
  },
  {
   "cell_type": "code",
   "execution_count": 42,
   "metadata": {},
   "outputs": [
    {
     "data": {
      "text/plain": [
       "1    2443\n",
       "0    2443\n",
       "Name: label, dtype: int64"
      ]
     },
     "execution_count": 42,
     "metadata": {},
     "output_type": "execute_result"
    }
   ],
   "source": [
    "# 使用jieba 针对 reviews评论 进行分词操作\n",
    "def func(item):\n",
    "    words = jieba.cut(item)\n",
    "    return ' '.join(words)\n",
    "    \n",
    "data['review'] = data['review'].apply(func)\n",
    "neg_len = (data['label'] == 0).sum()\n",
    "data = data.tail(neg_len * 2)\n",
    "data['label'].value_counts()"
   ]
  },
  {
   "cell_type": "code",
   "execution_count": 43,
   "metadata": {},
   "outputs": [
    {
     "data": {
      "text/plain": [
       "(4886, 22893)"
      ]
     },
     "execution_count": 43,
     "metadata": {},
     "output_type": "execute_result"
    }
   ],
   "source": [
    "# 对所有评论整理tfidf矩阵\n",
    "import sklearn.feature_extraction.text as ft\n",
    "cv = ft.CountVectorizer()\n",
    "bow = cv.fit_transform(data['review'])\n",
    "tt = ft.TfidfTransformer()\n",
    "tfidf = tt.fit_transform(bow)\n",
    "tfidf.shape"
   ]
  },
  {
   "cell_type": "code",
   "execution_count": 47,
   "metadata": {},
   "outputs": [
    {
     "name": "stdout",
     "output_type": "stream",
     "text": [
      "             precision    recall  f1-score   support\n",
      "\n",
      "          0       0.87      0.89      0.88       244\n",
      "          1       0.89      0.87      0.88       245\n",
      "\n",
      "avg / total       0.88      0.88      0.88       489\n",
      "\n"
     ]
    }
   ],
   "source": [
    "# 整理输入集与输出集， 拆分训练集与测试集\n",
    "x, y = tfidf, data['label']\n",
    "train_x, test_x, train_y, test_y = \\\n",
    "    ms.train_test_split(x, y, test_size=0.1, random_state=7, stratify=y)\n",
    "\n",
    "# 训练朴素贝叶斯模型\n",
    "model = nb.MultinomialNB()\n",
    "model.fit(train_x, train_y)\n",
    "\n",
    "# 模型评估\n",
    "pred_test_y = model.predict(test_x)\n",
    "print(sm.classification_report(test_y, pred_test_y))"
   ]
  },
  {
   "cell_type": "code",
   "execution_count": null,
   "metadata": {},
   "outputs": [],
   "source": []
  },
  {
   "cell_type": "code",
   "execution_count": 45,
   "metadata": {},
   "outputs": [
    {
     "name": "stdout",
     "output_type": "stream",
     "text": [
      "[0 1 1 1 0 1 0]\n"
     ]
    }
   ],
   "source": [
    "# 使用自定义的评论，进行模型测试\n",
    "doc = ['这家酒店真是垃圾，哪哪都不爽，再也不来了！', \n",
    "       '这家还不错，值得推荐，下次应该还来。',\n",
    "       '早餐不太好，空调漏水，厕所有点味，床不太整洁，但是还是给个好评吧。', \n",
    "       '房间真棒，离大马路很近，非常方便。不错。',\n",
    "       '房间有点脏，厕所还漏水，空调不制冷，下次再也不来了。',\n",
    "       '挺好的~',\n",
    "       '我不喜欢~']\n",
    "doc = pd.Series(doc)\n",
    "doc = doc.apply(func)\n",
    "# 把样本整理成tfidf\n",
    "bow = cv.transform(doc)\n",
    "test_x = tt.transform(bow)\n",
    "pred_test_y = model.predict(test_x)\n",
    "\n",
    "# 输出每个测试样本属于相应类别的置信概率\n",
    "\n"
   ]
  },
  {
   "cell_type": "code",
   "execution_count": null,
   "metadata": {},
   "outputs": [],
   "source": []
  },
  {
   "cell_type": "code",
   "execution_count": null,
   "metadata": {},
   "outputs": [],
   "source": []
  },
  {
   "cell_type": "code",
   "execution_count": null,
   "metadata": {},
   "outputs": [],
   "source": []
  },
  {
   "cell_type": "code",
   "execution_count": null,
   "metadata": {},
   "outputs": [],
   "source": []
  },
  {
   "cell_type": "code",
   "execution_count": null,
   "metadata": {},
   "outputs": [],
   "source": []
  },
  {
   "cell_type": "code",
   "execution_count": null,
   "metadata": {},
   "outputs": [],
   "source": []
  }
 ],
 "metadata": {
  "kernelspec": {
   "display_name": "Python 3.6.4 64-bit ('aid': conda)",
   "language": "python",
   "name": "python36464bitaidcondae59d3bb693a64e389fabf1b849bb4be3"
  },
  "language_info": {
   "codemirror_mode": {
    "name": "ipython",
    "version": 3
   },
   "file_extension": ".py",
   "mimetype": "text/x-python",
   "name": "python",
   "nbconvert_exporter": "python",
   "pygments_lexer": "ipython3",
   "version": "3.6.4"
  }
 },
 "nbformat": 4,
 "nbformat_minor": 2
}
