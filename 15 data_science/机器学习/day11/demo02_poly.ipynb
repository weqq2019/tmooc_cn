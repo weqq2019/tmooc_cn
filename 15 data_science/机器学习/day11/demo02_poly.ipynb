{
 "cells": [
  {
   "cell_type": "markdown",
   "metadata": {},
   "source": [
    "# demo02_poly.ipynb   多项式回归模型"
   ]
  },
  {
   "cell_type": "code",
   "execution_count": 95,
   "metadata": {},
   "outputs": [
    {
     "name": "stdout",
     "output_type": "stream",
     "text": [
      "0.9696498879448306\n"
     ]
    },
    {
     "data": {
      "text/plain": [
       "<matplotlib.axes._subplots.AxesSubplot at 0x22437bf9780>"
      ]
     },
     "execution_count": 95,
     "metadata": {},
     "output_type": "execute_result"
    },
    {
     "data": {
      "image/png": "[encoded data removed]",
      "text/plain": [
       "<matplotlib.figure.Figure at 0x22437c049b0>"
      ]
     },
     "metadata": {},
     "output_type": "display_data"
    }
   ],
   "source": [
    "import pandas as pd\n",
    "import numpy as np\n",
    "import matplotlib.pyplot as plt\n",
    "\n",
    "data = pd.read_csv('../data/Salary_Data.csv')\n",
    "x = data.loc[:, :'YearsExperience']   # 保证 x 是二维数组\n",
    "y = data['Salary']\n",
    "\n",
    "# 基于sklearn的API，训练线性回归模型\n",
    "import sklearn.linear_model as lm\n",
    "import sklearn.utils as su\n",
    "# 打乱数据集，拆分测试集与训练集  su.shuffle提供了打乱算法，给出x、y及随机种子\n",
    "# random_state：\n",
    "#  随机种子，当执行多次shuffle时，若每次的随机种子相同，则得到的随机结果一致。\n",
    "data_x, data_y = su.shuffle(x, y, random_state=7)\n",
    "# 拆分测试集与训练集   \n",
    "train_x, test_x, train_y, test_y = \\\n",
    "    data_x.iloc[:25], data_x.iloc[25:], data_y[:25], data_y[25:]\n",
    "\n",
    "# 重新训练模型\n",
    "model = lm.LinearRegression()\n",
    "model.fit(train_x, train_y)\n",
    "pred_test_y = model.predict(test_x) # 测试集的预测输出\n",
    "\n",
    "# 基于slearn.metrics模块提供的评估算法，评估模型的误差\n",
    "import sklearn.metrics as sm\n",
    "print(sm.r2_score(test_y, pred_test_y))\n",
    "\n",
    "data.plot.scatter(x='YearsExperience', y='Salary')\n"
   ]
  },
  {
   "cell_type": "code",
   "execution_count": 96,
   "metadata": {},
   "outputs": [
    {
     "name": "stdout",
     "output_type": "stream",
     "text": [
      "0.9819223886492171\n",
      "0.9631870834637946\n"
     ]
    }
   ],
   "source": [
    "## 训练多项式回归模型  观察与线性回归模型的效果\n",
    "\n",
    "import sklearn.pipeline as pl\n",
    "import sklearn.preprocessing as sp\n",
    "import sklearn.linear_model as lm\n",
    "\n",
    "model = pl.make_pipeline(\n",
    "    sp.PolynomialFeatures(10), lm.LinearRegression())\n",
    "model.fit(train_x, train_y)\n",
    "# 针对测试数据进行测试\n",
    "pred_train_y = model.predict(train_x)\n",
    "print(sm.r2_score(train_y, pred_train_y))\n",
    "# 针对测试数据进行测试\n",
    "pred_test_y = model.predict(test_x)\n",
    "print(sm.r2_score(test_y, pred_test_y))\n",
    " "
   ]
  },
  {
   "cell_type": "code",
   "execution_count": null,
   "metadata": {},
   "outputs": [],
   "source": []
  },
  {
   "cell_type": "code",
   "execution_count": 97,
   "metadata": {},
   "outputs": [
    {
     "data": {
      "text/plain": [
       "[<matplotlib.lines.Line2D at 0x22437c549b0>]"
      ]
     },
     "execution_count": 97,
     "metadata": {},
     "output_type": "execute_result"
    },
    {
     "data": {
      "image/png": "[encoded data removed]",
      "text/plain": [
       "<matplotlib.figure.Figure at 0x22437b3f080>"
      ]
     },
     "metadata": {},
     "output_type": "display_data"
    }
   ],
   "source": [
    "## 绘制多项式模型图像\n",
    "x, y = data['YearsExperience'], data['Salary']\n",
    "polyx = np.linspace(x.min(), x.max(), 200)\n",
    "polyx = polyx.reshape(-1, 1)\n",
    "polyy = model.predict(polyx)\n",
    "plt.figure('PolyFit')\n",
    "plt.scatter(x, y)\n",
    "plt.plot(polyx, polyy, color='orangered')"
   ]
  },
  {
   "cell_type": "code",
   "execution_count": null,
   "metadata": {},
   "outputs": [],
   "source": []
  },
  {
   "cell_type": "code",
   "execution_count": null,
   "metadata": {},
   "outputs": [],
   "source": []
  },
  {
   "cell_type": "code",
   "execution_count": null,
   "metadata": {},
   "outputs": [],
   "source": []
  }
 ],
 "metadata": {
  "kernelspec": {
   "display_name": "Python 3",
   "language": "python",
   "name": "python3"
  },
  "language_info": {
   "codemirror_mode": {
    "name": "ipython",
    "version": 3
   },
   "file_extension": ".py",
   "mimetype": "text/x-python",
   "name": "python",
   "nbconvert_exporter": "python",
   "pygments_lexer": "ipython3",
   "version": "3.6.4"
  }
 },
 "nbformat": 4,
 "nbformat_minor": 2
}
