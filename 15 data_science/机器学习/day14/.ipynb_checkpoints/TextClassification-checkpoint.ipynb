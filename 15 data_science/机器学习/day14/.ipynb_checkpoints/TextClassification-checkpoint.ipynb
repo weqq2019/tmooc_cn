{
 "cells": [
  {
   "cell_type": "markdown",
   "metadata": {},
   "source": [
    "# TextClassification.ipynb   文本分类"
   ]
  },
  {
   "cell_type": "code",
   "execution_count": 21,
   "metadata": {},
   "outputs": [],
   "source": [
    "import numpy as np\n",
    "import sklearn.datasets as sd\n",
    "import sklearn.model_selection as ms\n",
    "import sklearn.linear_model as lm\n",
    "import sklearn.metrics as sm\n",
    "import sklearn.feature_extraction.text as ft"
   ]
  },
  {
   "cell_type": "code",
   "execution_count": 22,
   "metadata": {},
   "outputs": [
    {
     "name": "stdout",
     "output_type": "stream",
     "text": [
      "the long kiss goodnight ( r ) meryl streep tried it and failed . \n",
      "even pamela anderson lee made an attempt but fell flat on her well-bared assets . \n",
      "however , geena davis could very well become the first bankable american female action star with the long kiss goodnight , a preposterous but incredibly fun action thriller directed by her husband , renny harlin . \n",
      "davis plays samantha caine , a mousy suburban school teacher and mother whose memories only go back eight years . \n",
      "with the help of ethically questionable private detective mitch hennessey ( samuel l . jackson ) , she slowly remembers--and reclaims--her past as charly baltimore , tough-as-nails cia operative . \n",
      "needless to say , with the reappearance of samantha/charly comes the appearance of an assortment of no-goodniks out to erase more than her memory . \n",
      "shane black netted a cool $4 mil for his script ; i'm not so sure if his prose is truly deserving of such a hefty price tag , but for what it's worth , it delivers the goods . \n",
      "like black's previous work , such as lethal weapon and the last boy scout , the script juggles some impressive action scenes with funny , quirky dialogue . \n",
      "the humor especially works well in this case , for the story is so preposterous that the laughs help to keep things from taking things too seriously . \n",
      "but there's no argument that the more unbelievable sequences are original and entertaining as hell : who can resist the sight of davis tossing her daughter from a hole in her house into the nearby treehouse or chasing after a car . . . \n",
      "while ice skating ? \n",
      "jackson and davis make a good team . \n",
      "jackson is funny as ever as ever ; in fact , his spirited line deliveries , especially when he first appears , are more than reminiscent of his work as jules in pulp fiction . \n",
      "as good as he is , the one who should benefit the most from this project is davis , who shows much promise as an action heroine . \n",
      "what makes her so effective and why she should succeed where streep and lee failed is that she doesn't take herself too seriously . \n",
      "she is obviously in on the joke , slyly taking jabs at herself and at the situation . \n",
      "this is not to say that she doesn't need work--sometimes she lays on the \" toughness \" a bit too thick and comes off too much as a caricature . \n",
      "but should the public embrace the film and , in turn , the notion of a kick-ass female , davis could have found her special niche . \n",
      "it seems as if davis and harlin's first collaboration , the middling pirate epic cutthroat island , was just a dress rehearsal ( albeit a very costly one ) for long kiss , in which the wife-husband team hit their action stride . \n",
      "anyone simply looking for a fun , escapist entertainment that requires little-to-no thinking will find this film to be a more-than-welcome kiss . \n",
      "\n",
      "1\n"
     ]
    }
   ],
   "source": [
    "# 加载数据文件\n",
    "data = sd.load_files('../data/20news', shuffle=True, encoding='latin1', random_state=7)\n",
    "print(data.data[0])\n",
    "print(data.target[0])\n",
    "# print(data.target_names[4])\n",
    "samples, targets = data.data, data.target"
   ]
  },
  {
   "cell_type": "code",
   "execution_count": 23,
   "metadata": {},
   "outputs": [
    {
     "name": "stdout",
     "output_type": "stream",
     "text": [
      "(2000, 39659)\n",
      "0.8115951117712289\n",
      "             precision    recall  f1-score   support\n",
      "\n",
      "          0       0.72      0.87      0.79        90\n",
      "          1       0.87      0.73      0.79       110\n",
      "\n",
      "avg / total       0.80      0.79      0.79       200\n",
      "\n",
      "[[78 12]\n",
      " [30 80]]\n"
     ]
    }
   ],
   "source": [
    "# 1. 整理 tfidf矩阵\n",
    "cv = ft.CountVectorizer()\n",
    "bow = cv.fit_transform(samples)\n",
    "tt = ft.TfidfTransformer()\n",
    "x = tt.fit_transform(bow).toarray()\n",
    "print(x.shape)\n",
    "# 2. 拆分测试集训练集\n",
    "train_x, test_x, train_y, test_y = \\\n",
    "    ms.train_test_split(x, targets, test_size=0.1, random_state=7)\n",
    "# 3. 训练模型\n",
    "model = lm.LogisticRegression()\n",
    "# import sklearn.ensemble as se\n",
    "# model = se.RandomForestClassifier(max_depth=50, n_estimators=100, min_samples_split=10)\n",
    "\n",
    "# 训练基于多项分布的朴素贝叶斯模型\n",
    "import sklearn.naive_bayes as nb\n",
    "model = nb.MultinomialNB()\n",
    "# model = nb.GaussianNB()\n",
    "\n",
    "score = ms.cross_val_score(model, x, targets, cv=5, scoring='f1_weighted')\n",
    "print(score.mean())\n",
    "model.fit(train_x, train_y)\n",
    "pred_test_y = model.predict(test_x)\n",
    "print(sm.classification_report(test_y, pred_test_y))\n",
    "print(sm.confusion_matrix(test_y, pred_test_y))\n"
   ]
  },
  {
   "cell_type": "code",
   "execution_count": 15,
   "metadata": {},
   "outputs": [
    {
     "name": "stdout",
     "output_type": "stream",
     "text": [
      "(4, 40605)\n",
      "[2 3 1 1] ['rec.sport.baseball' 'sci.crypt' 'rec.motorcycles' 'rec.motorcycles']\n"
     ]
    }
   ],
   "source": [
    "# 4. 测试模型\n",
    "test_data = [\n",
    "    'The curveballs of right handed pitchers tend to curve to the left',\n",
    "    'Caesar cipher is an ancient form of encryption',\n",
    "    'This two-wheeler is really good on slippery roads',\n",
    "    \"Harley heard it's cool, isn't it cheap?\"]\n",
    "# 5. 应用模型   想办法把测试文本变为与训练样本结构相同的tfidf\n",
    "bow = cv.transform(test_data)\n",
    "test_x = tt.transform(bow).toarray()\n",
    "print(test_x.shape)\n",
    "pred_test_y = model.predict(test_x)\n",
    "target_names = np.array(data.target_names)\n",
    "print(pred_test_y, target_names[pred_test_y])"
   ]
  },
  {
   "cell_type": "code",
   "execution_count": null,
   "metadata": {},
   "outputs": [],
   "source": []
  },
  {
   "cell_type": "code",
   "execution_count": null,
   "metadata": {},
   "outputs": [],
   "source": []
  },
  {
   "cell_type": "code",
   "execution_count": null,
   "metadata": {},
   "outputs": [],
   "source": []
  },
  {
   "cell_type": "code",
   "execution_count": null,
   "metadata": {},
   "outputs": [],
   "source": []
  },
  {
   "cell_type": "code",
   "execution_count": null,
   "metadata": {},
   "outputs": [],
   "source": []
  },
  {
   "cell_type": "code",
   "execution_count": null,
   "metadata": {},
   "outputs": [],
   "source": []
  },
  {
   "cell_type": "code",
   "execution_count": null,
   "metadata": {},
   "outputs": [],
   "source": []
  }
 ],
 "metadata": {
  "kernelspec": {
   "display_name": "Python 3.6.4 64-bit ('aid': conda)",
   "language": "python",
   "name": "python36464bitaidcondae59d3bb693a64e389fabf1b849bb4be3"
  },
  "language_info": {
   "codemirror_mode": {
    "name": "ipython",
    "version": 3
   },
   "file_extension": ".py",
   "mimetype": "text/x-python",
   "name": "python",
   "nbconvert_exporter": "python",
   "pygments_lexer": "ipython3",
   "version": "3.6.4"
  }
 },
 "nbformat": 4,
 "nbformat_minor": 2
}
