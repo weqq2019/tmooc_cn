{
 "cells": [
  {
   "cell_type": "markdown",
   "metadata": {},
   "source": [
    "# demo01_svm  支持向量机"
   ]
  },
  {
   "cell_type": "code",
   "execution_count": 1,
   "metadata": {},
   "outputs": [
    {
     "name": "stdout",
     "output_type": "stream",
     "text": [
      "             precision    recall  f1-score   support\n",
      "\n",
      "        0.0       0.64      0.96      0.77        45\n",
      "        1.0       0.75      0.20      0.32        30\n",
      "\n",
      "avg / total       0.69      0.65      0.59        75\n",
      "\n"
     ]
    },
    {
     "data": {
      "text/plain": [
       "<matplotlib.figure.Figure at 0x25c194f0208>"
      ]
     },
     "metadata": {},
     "output_type": "display_data"
    }
   ],
   "source": [
    "import numpy as np\n",
    "import sklearn.model_selection as ms\n",
    "import sklearn.svm as svm\n",
    "import sklearn.metrics as sm\n",
    "import matplotlib.pyplot as mp\n",
    "\n",
    "x, y = [], []\n",
    "data = np.loadtxt('../data/multiple2.txt', delimiter=',', dtype='f8')\n",
    "x = data[:, :-1]\n",
    "y = data[:, -1]\n",
    "train_x, test_x, train_y, test_y = \\\n",
    "    ms.train_test_split(x, y, test_size=0.25, random_state=5)\n",
    "# 基于线性核函数的支持向量机分类器\n",
    "model = svm.SVC(kernel='linear')\n",
    "model.fit(train_x, train_y)\n",
    "n = 500\n",
    "l, r = x[:, 0].min() - 1, x[:, 0].max() + 1\n",
    "b, t = x[:, 1].min() - 1, x[:, 1].max() + 1\n",
    "grid_x = np.meshgrid(np.linspace(l, r, n),\n",
    "                     np.linspace(b, t, n))\n",
    "flat_x = np.column_stack((grid_x[0].ravel(), grid_x[1].ravel()))    \n",
    "flat_y = model.predict(flat_x)\n",
    "grid_y = flat_y.reshape(grid_x[0].shape)\n",
    "pred_test_y = model.predict(test_x)\n",
    "cr = sm.classification_report(test_y, pred_test_y)\n",
    "print(cr)\n",
    "mp.figure('SVM Linear Classification', facecolor='lightgray')\n",
    "mp.title('SVM Linear Classification', fontsize=20)\n",
    "mp.xlabel('x', fontsize=14)\n",
    "mp.ylabel('y', fontsize=14)\n",
    "mp.tick_params(labelsize=10)\n",
    "mp.pcolormesh(grid_x[0], grid_x[1], grid_y, cmap='gray')\n",
    "mp.scatter(test_x[:, 0], test_x[:, 1], c=test_y, cmap='brg', s=80)\n",
    "mp.show()"
   ]
  },
  {
   "cell_type": "code",
   "execution_count": null,
   "metadata": {},
   "outputs": [],
   "source": []
  },
  {
   "cell_type": "code",
   "execution_count": 2,
   "metadata": {},
   "outputs": [
    {
     "name": "stdout",
     "output_type": "stream",
     "text": [
      "             precision    recall  f1-score   support\n",
      "\n",
      "        0.0       0.91      0.89      0.90        45\n",
      "        1.0       0.84      0.87      0.85        30\n",
      "\n",
      "avg / total       0.88      0.88      0.88        75\n",
      "\n"
     ]
    },
    {
     "data": {
      "image/png": "[encoded data removed]",
      "text/plain": [
       "<matplotlib.figure.Figure at 0x25c1ad68240>"
      ]
     },
     "metadata": {},
     "output_type": "display_data"
    }
   ],
   "source": [
    "# 基于多项式核函数的支持向量机分类器\n",
    "model = svm.SVC(kernel='poly', degree=2)\n",
    "model.fit(train_x, train_y)\n",
    "n = 500\n",
    "l, r = x[:, 0].min() - 1, x[:, 0].max() + 1\n",
    "b, t = x[:, 1].min() - 1, x[:, 1].max() + 1\n",
    "grid_x = np.meshgrid(np.linspace(l, r, n),\n",
    "                     np.linspace(b, t, n))\n",
    "flat_x = np.column_stack((grid_x[0].ravel(), grid_x[1].ravel()))    \n",
    "flat_y = model.predict(flat_x)\n",
    "grid_y = flat_y.reshape(grid_x[0].shape)\n",
    "pred_test_y = model.predict(test_x)\n",
    "cr = sm.classification_report(test_y, pred_test_y)\n",
    "print(cr)\n",
    "mp.figure('SVM Linear Classification', facecolor='lightgray')\n",
    "mp.title('SVM Linear Classification', fontsize=18)\n",
    "mp.xlabel('x', fontsize=14)\n",
    "mp.ylabel('y', fontsize=14)\n",
    "mp.tick_params(labelsize=10)\n",
    "mp.pcolormesh(grid_x[0], grid_x[1], grid_y, cmap='gray')\n",
    "mp.scatter(test_x[:, 0], test_x[:, 1], c=test_y, cmap='brg', s=80)\n",
    "mp.show()"
   ]
  },
  {
   "cell_type": "code",
   "execution_count": null,
   "metadata": {},
   "outputs": [],
   "source": []
  },
  {
   "cell_type": "code",
   "execution_count": 20,
   "metadata": {},
   "outputs": [
    {
     "name": "stdout",
     "output_type": "stream",
     "text": [
      "{'C': 1, 'gamma': 1, 'kernel': 'rbf'}\n",
      "0.96\n",
      "SVC(C=1, cache_size=200, class_weight=None, coef0=0.0,\n",
      "  decision_function_shape='ovr', degree=3, gamma=1, kernel='rbf',\n",
      "  max_iter=-1, probability=False, random_state=None, shrinking=True,\n",
      "  tol=0.001, verbose=False)\n",
      "{'C': 1, 'kernel': 'linear'} -> 0.5911111111111111\n",
      "{'C': 10, 'kernel': 'linear'} -> 0.5911111111111111\n",
      "{'C': 100, 'kernel': 'linear'} -> 0.5911111111111111\n",
      "{'C': 1000, 'kernel': 'linear'} -> 0.5911111111111111\n",
      "{'C': 1, 'degree': 2, 'kernel': 'poly'} -> 0.52\n",
      "{'C': 1, 'degree': 3, 'kernel': 'poly'} -> 0.5288888888888889\n",
      "{'C': 1, 'gamma': 1, 'kernel': 'rbf'} -> 0.96\n",
      "{'C': 1, 'gamma': 0.1, 'kernel': 'rbf'} -> 0.9511111111111111\n",
      "{'C': 1, 'gamma': 0.01, 'kernel': 'rbf'} -> 0.8311111111111111\n",
      "{'C': 10, 'gamma': 1, 'kernel': 'rbf'} -> 0.96\n",
      "{'C': 10, 'gamma': 0.1, 'kernel': 'rbf'} -> 0.96\n",
      "{'C': 10, 'gamma': 0.01, 'kernel': 'rbf'} -> 0.92\n",
      "{'C': 100, 'gamma': 1, 'kernel': 'rbf'} -> 0.96\n",
      "{'C': 100, 'gamma': 0.1, 'kernel': 'rbf'} -> 0.9555555555555556\n",
      "{'C': 100, 'gamma': 0.01, 'kernel': 'rbf'} -> 0.9466666666666667\n"
     ]
    }
   ],
   "source": [
    "# 基于径向基核函数的支持向量机分类器\n",
    "model = svm.SVC(kernel='rbf', C=600, gamma=0.01)\n",
    "\n",
    "# 通过网格搜索寻求最优超参数组合\n",
    "params = [{'kernel':['linear'], 'C':[1, 10, 100, 1000]},\n",
    "    {'kernel':['poly'], 'C':[1, 10, 100], 'degree':[2, 3]}, \n",
    "    {'kernel':['rbf'], 'C':[1,10,100], 'gamma':[1, 0.1, 0.01, 0.001]}]\n",
    "model = ms.GridSearchCV(model, params, cv=5)\n",
    "model.fit(train_x, train_y)\n",
    "# 获取最优模型的信息\n",
    "print(model.best_params_)\n",
    "print(model.best_score_)\n",
    "print(model.best_estimator_)\n",
    "# 获取每组超参数在做交叉验证时的得分\n",
    "for p, m in zip(model.cv_results_['params'],  model.cv_results_['mean_test_score']):\n",
    "    print(p, '->', m)\n"
   ]
  },
  {
   "cell_type": "code",
   "execution_count": 18,
   "metadata": {},
   "outputs": [
    {
     "name": "stdout",
     "output_type": "stream",
     "text": [
      "             precision    recall  f1-score   support\n",
      "\n",
      "        0.0       0.95      0.93      0.94        45\n",
      "        1.0       0.90      0.93      0.92        30\n",
      "\n",
      "avg / total       0.93      0.93      0.93        75\n",
      "\n"
     ]
    },
    {
     "data": {
      "image/png": "[encoded data removed]",
      "text/plain": [
       "<matplotlib.figure.Figure at 0x25c3c3f94a8>"
      ]
     },
     "metadata": {},
     "output_type": "display_data"
    }
   ],
   "source": [
    "\n",
    "n = 500\n",
    "l, r = x[:, 0].min(), x[:, 0].max()\n",
    "b, t = x[:, 1].min(), x[:, 1].max()\n",
    "grid_x = np.meshgrid(np.linspace(l, r, n),\n",
    "                     np.linspace(b, t, n))\n",
    "flat_x = np.column_stack((grid_x[0].ravel(), grid_x[1].ravel()))    \n",
    "flat_y = model.predict(flat_x)\n",
    "grid_y = flat_y.reshape(grid_x[0].shape)\n",
    "pred_test_y = model.predict(test_x)\n",
    "cr = sm.classification_report(test_y, pred_test_y)\n",
    "print(cr)\n",
    "mp.figure('SVM Linear Classification', facecolor='lightgray')\n",
    "mp.title('SVM Linear Classification', fontsize=18)\n",
    "mp.xlabel('x', fontsize=14)\n",
    "mp.ylabel('y', fontsize=14)\n",
    "mp.tick_params(labelsize=10)\n",
    "mp.pcolormesh(grid_x[0], grid_x[1], grid_y, cmap='gray')\n",
    "mp.scatter(test_x[:, 0], test_x[:, 1], c=test_y, cmap='brg', s=80)\n",
    "mp.show()"
   ]
  },
  {
   "cell_type": "code",
   "execution_count": null,
   "metadata": {},
   "outputs": [],
   "source": []
  },
  {
   "cell_type": "code",
   "execution_count": null,
   "metadata": {},
   "outputs": [],
   "source": []
  },
  {
   "cell_type": "code",
   "execution_count": null,
   "metadata": {},
   "outputs": [],
   "source": []
  },
  {
   "cell_type": "code",
   "execution_count": null,
   "metadata": {},
   "outputs": [],
   "source": []
  },
  {
   "cell_type": "code",
   "execution_count": null,
   "metadata": {},
   "outputs": [],
   "source": []
  },
  {
   "cell_type": "code",
   "execution_count": null,
   "metadata": {},
   "outputs": [],
   "source": []
  }
 ],
 "metadata": {
  "kernelspec": {
   "display_name": "Python 3.6.4 64-bit ('aid': conda)",
   "language": "python",
   "name": "python36464bitaidcondae59d3bb693a64e389fabf1b849bb4be3"
  },
  "language_info": {
   "codemirror_mode": {
    "name": "ipython",
    "version": 3
   },
   "file_extension": ".py",
   "mimetype": "text/x-python",
   "name": "python",
   "nbconvert_exporter": "python",
   "pygments_lexer": "ipython3",
   "version": "3.6.4"
  }
 },
 "nbformat": 4,
 "nbformat_minor": 2
}
