{
 "cells": [
  {
   "cell_type": "markdown",
   "metadata": {},
   "source": [
    "# TextClassification.ipynb   文本分类"
   ]
  },
  {
   "cell_type": "code",
   "execution_count": 24,
   "metadata": {},
   "outputs": [],
   "source": [
    "import numpy as np\n",
    "import sklearn.datasets as sd\n",
    "import sklearn.model_selection as ms\n",
    "import sklearn.linear_model as lm\n",
    "import sklearn.metrics as sm\n",
    "import sklearn.feature_extraction.text as ft"
   ]
  },
  {
   "cell_type": "code",
   "execution_count": 25,
   "metadata": {},
   "outputs": [
    {
     "name": "stdout",
     "output_type": "stream",
     "text": [
      "From: gene@theporch.raider.net (Gene Wright)\n",
      "Subject: NASA Special Publications for Voyager Mission?\n",
      "Organization: The MacInteresteds of Nashville, Tn.\n",
      "Lines: 12\n",
      "\n",
      "I have two books, both NASA Special Publications, on the Voyager \n",
      "Missions. One is titled \"Voyages to Jupiter\" the other \"Voyage to Saturn\" \n",
      "These were excellent books put together after the encounters with each \n",
      "planet. \n",
      "\n",
      "The question is: Did NASA ever put together a similar book for either the \n",
      "Uranus encounter or Neptune? If so, what SP number is it and where can it \n",
      "be obtained? If not, why didn't they?\n",
      "\n",
      "--\n",
      "  gene@theporch.raider.net (Gene Wright)\n",
      "theporch.raider.net  615/297-7951 The MacInteresteds of Nashville\n",
      "\n",
      "4\n"
     ]
    }
   ],
   "source": [
    "# 加载数据文件\n",
    "data = sd.load_files('../data/20news', shuffle=True, encoding='latin1', random_state=7)\n",
    "print(data.data[0])\n",
    "print(data.target[0])\n",
    "# print(data.target_names[4])\n",
    "samples, targets = data.data, data.target"
   ]
  },
  {
   "cell_type": "code",
   "execution_count": 26,
   "metadata": {},
   "outputs": [
    {
     "name": "stdout",
     "output_type": "stream",
     "text": [
      "(2968, 40605)\n",
      "0.9446047813386164\n",
      "             precision    recall  f1-score   support\n",
      "\n",
      "          0       0.98      0.79      0.88        72\n",
      "          1       0.93      0.98      0.95        53\n",
      "          2       0.88      1.00      0.94        45\n",
      "          3       0.93      1.00      0.96        66\n",
      "          4       1.00      1.00      1.00        61\n",
      "\n",
      "avg / total       0.95      0.95      0.94       297\n",
      "\n",
      "[[57  4  6  5  0]\n",
      " [ 1 52  0  0  0]\n",
      " [ 0  0 45  0  0]\n",
      " [ 0  0  0 66  0]\n",
      " [ 0  0  0  0 61]]\n"
     ]
    }
   ],
   "source": [
    "# 1. 整理 tfidf矩阵\n",
    "cv = ft.CountVectorizer()\n",
    "bow = cv.fit_transform(samples)\n",
    "tt = ft.TfidfTransformer()\n",
    "x = tt.fit_transform(bow).toarray()\n",
    "print(x.shape)\n",
    "# 2. 拆分测试集训练集\n",
    "train_x, test_x, train_y, test_y = \\\n",
    "    ms.train_test_split(x, targets, test_size=0.1, random_state=7)\n",
    "# 3. 训练模型\n",
    "model = lm.LogisticRegression()\n",
    "# import sklearn.ensemble as se\n",
    "# model = se.RandomForestClassifier(max_depth=50, n_estimators=100, min_samples_split=10)\n",
    "\n",
    "# 训练基于多项分布的朴素贝叶斯模型\n",
    "import sklearn.naive_bayes as nb\n",
    "model = nb.MultinomialNB()\n",
    "# model = nb.GaussianNB()\n",
    "\n",
    "score = ms.cross_val_score(model, x, targets, cv=5, scoring='f1_weighted')\n",
    "print(score.mean())\n",
    "model.fit(train_x, train_y)\n",
    "pred_test_y = model.predict(test_x)\n",
    "print(sm.classification_report(test_y, pred_test_y))\n",
    "print(sm.confusion_matrix(test_y, pred_test_y))\n"
   ]
  },
  {
   "cell_type": "code",
   "execution_count": 27,
   "metadata": {},
   "outputs": [
    {
     "name": "stdout",
     "output_type": "stream",
     "text": [
      "(4, 40605)\n",
      "[2 3 1 1] ['rec.sport.baseball' 'sci.crypt' 'rec.motorcycles' 'rec.motorcycles']\n"
     ]
    }
   ],
   "source": [
    "# 4. 测试模型\n",
    "test_data = [\n",
    "    'The curveballs of right handed pitchers tend to curve to the left',\n",
    "    'Caesar cipher is an ancient form of encryption',\n",
    "    'This two-wheeler is really good on slippery roads',\n",
    "    \"Harley heard it's cool, isn't it cheap?\"]\n",
    "# 5. 应用模型   想办法把测试文本变为与训练样本结构相同的tfidf\n",
    "bow = cv.transform(test_data)\n",
    "test_x = tt.transform(bow).toarray()\n",
    "print(test_x.shape)\n",
    "pred_test_y = model.predict(test_x)\n",
    "target_names = np.array(data.target_names)\n",
    "print(pred_test_y, target_names[pred_test_y])"
   ]
  },
  {
   "cell_type": "code",
   "execution_count": null,
   "metadata": {},
   "outputs": [],
   "source": []
  },
  {
   "cell_type": "code",
   "execution_count": null,
   "metadata": {},
   "outputs": [],
   "source": []
  },
  {
   "cell_type": "code",
   "execution_count": null,
   "metadata": {},
   "outputs": [],
   "source": []
  },
  {
   "cell_type": "code",
   "execution_count": null,
   "metadata": {},
   "outputs": [],
   "source": []
  },
  {
   "cell_type": "code",
   "execution_count": null,
   "metadata": {},
   "outputs": [],
   "source": []
  },
  {
   "cell_type": "code",
   "execution_count": null,
   "metadata": {},
   "outputs": [],
   "source": []
  },
  {
   "cell_type": "code",
   "execution_count": null,
   "metadata": {},
   "outputs": [],
   "source": []
  }
 ],
 "metadata": {
  "kernelspec": {
   "display_name": "Python 3.6.4 64-bit ('aid': conda)",
   "language": "python",
   "name": "python36464bitaidcondae59d3bb693a64e389fabf1b849bb4be3"
  },
  "language_info": {
   "codemirror_mode": {
    "name": "ipython",
    "version": 3
   },
   "file_extension": ".py",
   "mimetype": "text/x-python",
   "name": "python",
   "nbconvert_exporter": "python",
   "pygments_lexer": "ipython3",
   "version": "3.6.4"
  }
 },
 "nbformat": 4,
 "nbformat_minor": 2
}
