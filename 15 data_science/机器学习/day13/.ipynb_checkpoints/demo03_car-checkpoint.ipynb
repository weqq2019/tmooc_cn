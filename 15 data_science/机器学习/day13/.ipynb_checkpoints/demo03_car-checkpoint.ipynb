{
 "cells": [
  {
   "cell_type": "markdown",
   "metadata": {},
   "source": [
    "# demo03_car 小汽车评级"
   ]
  },
  {
   "cell_type": "code",
   "execution_count": 1,
   "metadata": {},
   "outputs": [],
   "source": [
    "import numpy as np\n",
    "import pandas as pd\n",
    "import matplotlib.pyplot as plt\n",
    "import sklearn.utils as su\n",
    "import sklearn.preprocessing as sp\n",
    "import sklearn.model_selection as ms\n",
    "import sklearn.tree as st\n",
    "import sklearn.ensemble as se\n",
    "import sklearn.metrics as sm"
   ]
  },
  {
   "cell_type": "code",
   "execution_count": 14,
   "metadata": {},
   "outputs": [
    {
     "data": {
      "text/html": [
       "<div>\n",
       "<style scoped>\n",
       "    .dataframe tbody tr th:only-of-type {\n",
       "        vertical-align: middle;\n",
       "    }\n",
       "\n",
       "    .dataframe tbody tr th {\n",
       "        vertical-align: top;\n",
       "    }\n",
       "\n",
       "    .dataframe thead th {\n",
       "        text-align: right;\n",
       "    }\n",
       "</style>\n",
       "<table border=\"1\" class=\"dataframe\">\n",
       "  <thead>\n",
       "    <tr style=\"text-align: right;\">\n",
       "      <th></th>\n",
       "      <th>0</th>\n",
       "      <th>1</th>\n",
       "      <th>2</th>\n",
       "      <th>3</th>\n",
       "      <th>4</th>\n",
       "      <th>5</th>\n",
       "      <th>6</th>\n",
       "    </tr>\n",
       "  </thead>\n",
       "  <tbody>\n",
       "    <tr>\n",
       "      <th>count</th>\n",
       "      <td>1728</td>\n",
       "      <td>1728</td>\n",
       "      <td>1728</td>\n",
       "      <td>1728</td>\n",
       "      <td>1728</td>\n",
       "      <td>1728</td>\n",
       "      <td>1728</td>\n",
       "    </tr>\n",
       "    <tr>\n",
       "      <th>unique</th>\n",
       "      <td>4</td>\n",
       "      <td>4</td>\n",
       "      <td>4</td>\n",
       "      <td>3</td>\n",
       "      <td>3</td>\n",
       "      <td>3</td>\n",
       "      <td>4</td>\n",
       "    </tr>\n",
       "    <tr>\n",
       "      <th>top</th>\n",
       "      <td>low</td>\n",
       "      <td>low</td>\n",
       "      <td>2</td>\n",
       "      <td>2</td>\n",
       "      <td>big</td>\n",
       "      <td>low</td>\n",
       "      <td>unacc</td>\n",
       "    </tr>\n",
       "    <tr>\n",
       "      <th>freq</th>\n",
       "      <td>432</td>\n",
       "      <td>432</td>\n",
       "      <td>432</td>\n",
       "      <td>576</td>\n",
       "      <td>576</td>\n",
       "      <td>576</td>\n",
       "      <td>1210</td>\n",
       "    </tr>\n",
       "  </tbody>\n",
       "</table>\n",
       "</div>"
      ],
      "text/plain": [
       "           0     1     2     3     4     5      6\n",
       "count   1728  1728  1728  1728  1728  1728   1728\n",
       "unique     4     4     4     3     3     3      4\n",
       "top      low   low     2     2   big   low  unacc\n",
       "freq     432   432   432   576   576   576   1210"
      ]
     },
     "execution_count": 14,
     "metadata": {},
     "output_type": "execute_result"
    }
   ],
   "source": [
    "cars = pd.read_csv('../data/car.txt', header=None)\n",
    "cars.describe()"
   ]
  },
  {
   "cell_type": "code",
   "execution_count": 39,
   "metadata": {},
   "outputs": [
    {
     "data": {
      "text/plain": [
       "((1728, 6), (1728,))"
      ]
     },
     "execution_count": 39,
     "metadata": {},
     "output_type": "execute_result"
    }
   ],
   "source": [
    "# 数据预处理   针对原数据集的每一列进行标签编码\n",
    "# index:字段名   col_val: 字段Series数组\n",
    "data = pd.DataFrame([])\n",
    "encoders = {}\n",
    "for index, col_val in cars.iteritems():\n",
    "    lbe = sp.LabelEncoder()\n",
    "    encodered_col = lbe.fit_transform(col_val)\n",
    "    data[index] = encodered_col\n",
    "    encoders[index] = lbe   # 把labelEncoder对象保存起来 测试时继续使用\n",
    "    \n",
    "# 整理输入集与输出集\n",
    "x, y = data.iloc[:, :6], data[6]\n",
    "x.shape, y.shape"
   ]
  },
  {
   "cell_type": "code",
   "execution_count": 24,
   "metadata": {},
   "outputs": [
    {
     "name": "stdout",
     "output_type": "stream",
     "text": [
      "0.7634056996908186\n"
     ]
    }
   ],
   "source": [
    "# 训练决策树分类模型，交叉验证\n",
    "model = st.DecisionTreeClassifier(max_depth=6, min_samples_split=3)\n",
    "# 交叉验证\n",
    "score = ms.cross_val_score(model, x, y, cv=5, scoring='accuracy')\n",
    "print(score.mean())"
   ]
  },
  {
   "cell_type": "code",
   "execution_count": null,
   "metadata": {},
   "outputs": [],
   "source": []
  },
  {
   "cell_type": "code",
   "execution_count": 61,
   "metadata": {},
   "outputs": [
    {
     "name": "stdout",
     "output_type": "stream",
     "text": [
      "0.8126058610028231\n"
     ]
    }
   ],
   "source": [
    "# 训练随机森林分类模型\n",
    "import warnings \n",
    "warnings.filterwarnings(\"ignore\") \n",
    "\n",
    "model = se.RandomForestClassifier(\n",
    "    max_depth=9, n_estimators=140, random_state=7)\n",
    "# 交叉验证\n",
    "score = ms.cross_val_score(model, x, y, cv=5, scoring='accuracy')\n",
    "print(score.mean())"
   ]
  },
  {
   "cell_type": "code",
   "execution_count": 55,
   "metadata": {},
   "outputs": [
    {
     "data": {
      "text/plain": [
       "<matplotlib.axes._subplots.AxesSubplot at 0x273a5008b00>"
      ]
     },
     "execution_count": 55,
     "metadata": {},
     "output_type": "execute_result"
    },
    {
     "data": {
      "image/png": "[encoded data removed]",
      "text/plain": [
       "<matplotlib.figure.Figure at 0x273a4f0fe10>"
      ]
     },
     "metadata": {},
     "output_type": "display_data"
    }
   ],
   "source": [
    "# 验证曲线  （做了验证曲线就没有必要做交叉验证了）\n",
    "params = np.arange(120, 160, 4)\n",
    "train_scores, test_scores = ms.validation_curve(\n",
    "    model, x, y, 'n_estimators', params, cv=5)\n",
    "mean_scores = test_scores.mean(axis=1)\n",
    "mean_scores = pd.Series(mean_scores, index=params)\n",
    "mean_scores.plot(grid='on')"
   ]
  },
  {
   "cell_type": "code",
   "execution_count": 60,
   "metadata": {},
   "outputs": [
    {
     "data": {
      "text/plain": [
       "<matplotlib.axes._subplots.AxesSubplot at 0x273a525eb70>"
      ]
     },
     "execution_count": 60,
     "metadata": {},
     "output_type": "execute_result"
    },
    {
     "data": {
      "image/png": "[encoded data removed]",
      "text/plain": [
       "<matplotlib.figure.Figure at 0x273a4e6d208>"
      ]
     },
     "metadata": {},
     "output_type": "display_data"
    }
   ],
   "source": [
    "# 验证曲线  （做了验证曲线就没有必要做交叉验证了）\n",
    "params = np.arange(3, 15)\n",
    "train_scores, test_scores = ms.validation_curve(\n",
    "    model, x, y, 'max_depth', params, cv=5)\n",
    "mean_scores = test_scores.mean(axis=1)\n",
    "mean_scores = pd.Series(mean_scores, index=params)\n",
    "mean_scores.plot(grid='on')"
   ]
  },
  {
   "cell_type": "code",
   "execution_count": 64,
   "metadata": {},
   "outputs": [
    {
     "data": {
      "text/plain": [
       "<matplotlib.axes._subplots.AxesSubplot at 0x273a5434470>"
      ]
     },
     "execution_count": 64,
     "metadata": {},
     "output_type": "execute_result"
    },
    {
     "data": {
      "image/png": "[encoded data removed]",
      "text/plain": [
       "<matplotlib.figure.Figure at 0x273a4f0feb8>"
      ]
     },
     "metadata": {},
     "output_type": "display_data"
    }
   ],
   "source": [
    "# 学习曲线确定训练集大小\n",
    "params = np.arange(0.1, 1.1, 0.1)\n",
    "_, train_scores, test_scores = \\\n",
    "    ms.learning_curve(model, x, y, train_sizes=params, cv=5)\n",
    "mean_scores = test_scores.mean(axis=1)\n",
    "mean_scores = pd.Series(mean_scores, index=params)\n",
    "mean_scores.plot(grid='on')"
   ]
  },
  {
   "cell_type": "code",
   "execution_count": 62,
   "metadata": {},
   "outputs": [
    {
     "name": "stdout",
     "output_type": "stream",
     "text": [
      "             precision    recall  f1-score   support\n",
      "\n",
      "          0       0.96      1.00      0.98       384\n",
      "          1       1.00      0.75      0.86        69\n",
      "          2       1.00      1.00      1.00      1210\n",
      "          3       0.94      1.00      0.97        65\n",
      "\n",
      "avg / total       0.99      0.99      0.99      1728\n",
      "\n"
     ]
    }
   ],
   "source": [
    "# 正儿八经训练随机森林\n",
    "model.fit(x, y)\n",
    "pred_y = model.predict(x)\n",
    "print(sm.classification_report(y, pred_y))"
   ]
  },
  {
   "cell_type": "code",
   "execution_count": 63,
   "metadata": {},
   "outputs": [
    {
     "name": "stdout",
     "output_type": "stream",
     "text": [
      "['unacc' 'acc' 'good' 'vgood']\n",
      "['unacc' 'acc' 'good' 'vgood']\n"
     ]
    }
   ],
   "source": [
    "test_data = [\n",
    "    ['high', 'med', '5more', '4', 'big', 'low', 'unacc'],\n",
    "    ['high', 'high', '4', '4', 'med', 'med', 'acc'],\n",
    "    ['low', 'low', '2', '4', 'small', 'high', 'good'],\n",
    "    ['low', 'med', '3', '4', 'med', 'high', 'vgood']]\n",
    "test_data = pd.DataFrame(test_data)\n",
    "\n",
    "# 对test_data的每一列使用相同的编码标准完成标签编码\n",
    "for index, colval in test_data.iteritems():\n",
    "    lbe = encoders[index]\n",
    "    encodered_col = lbe.transform(colval)\n",
    "    test_data[index] = encodered_col\n",
    "test_x, test_y = test_data.iloc[:,:6], test_data[6]\n",
    "\n",
    "# 模型测试\n",
    "pred_test_y = model.predict(test_x)\n",
    "# 最后一列的编码器 进行反编码\n",
    "print(encoders[6].inverse_transform(test_y))\n",
    "print(encoders[6].inverse_transform(pred_test_y))\n"
   ]
  },
  {
   "cell_type": "code",
   "execution_count": null,
   "metadata": {},
   "outputs": [],
   "source": []
  },
  {
   "cell_type": "code",
   "execution_count": null,
   "metadata": {},
   "outputs": [],
   "source": []
  },
  {
   "cell_type": "code",
   "execution_count": null,
   "metadata": {},
   "outputs": [],
   "source": []
  },
  {
   "cell_type": "code",
   "execution_count": null,
   "metadata": {},
   "outputs": [],
   "source": []
  },
  {
   "cell_type": "code",
   "execution_count": null,
   "metadata": {},
   "outputs": [],
   "source": []
  },
  {
   "cell_type": "code",
   "execution_count": null,
   "metadata": {},
   "outputs": [],
   "source": []
  },
  {
   "cell_type": "code",
   "execution_count": null,
   "metadata": {},
   "outputs": [],
   "source": []
  },
  {
   "cell_type": "code",
   "execution_count": null,
   "metadata": {},
   "outputs": [],
   "source": []
  }
 ],
 "metadata": {
  "kernelspec": {
   "display_name": "Python 3",
   "language": "python",
   "name": "python3"
  },
  "language_info": {
   "codemirror_mode": {
    "name": "ipython",
    "version": 3
   },
   "file_extension": ".py",
   "mimetype": "text/x-python",
   "name": "python",
   "nbconvert_exporter": "python",
   "pygments_lexer": "ipython3",
   "version": "3.6.4"
  }
 },
 "nbformat": 4,
 "nbformat_minor": 2
}
