{
 "cells": [
  {
   "cell_type": "markdown",
   "metadata": {},
   "source": [
    "# ratings.ipynb"
   ]
  },
  {
   "cell_type": "code",
   "execution_count": 1,
   "metadata": {},
   "outputs": [],
   "source": [
    "import numpy as np\n",
    "import pandas as pd"
   ]
  },
  {
   "cell_type": "code",
   "execution_count": 2,
   "metadata": {},
   "outputs": [
    {
     "data": {
      "text/html": [
       "<div>\n",
       "<style scoped>\n",
       "    .dataframe tbody tr th:only-of-type {\n",
       "        vertical-align: middle;\n",
       "    }\n",
       "\n",
       "    .dataframe tbody tr th {\n",
       "        vertical-align: top;\n",
       "    }\n",
       "\n",
       "    .dataframe thead th {\n",
       "        text-align: right;\n",
       "    }\n",
       "</style>\n",
       "<table border=\"1\" class=\"dataframe\">\n",
       "  <thead>\n",
       "    <tr style=\"text-align: right;\">\n",
       "      <th></th>\n",
       "      <th>Alex Roberts</th>\n",
       "      <th>Jillian Hobart</th>\n",
       "      <th>John Carson</th>\n",
       "      <th>Melissa Jones</th>\n",
       "      <th>Michael Henry</th>\n",
       "      <th>Michelle Peterson</th>\n",
       "      <th>William Reynolds</th>\n",
       "    </tr>\n",
       "  </thead>\n",
       "  <tbody>\n",
       "    <tr>\n",
       "      <th>Anger Management</th>\n",
       "      <td>NaN</td>\n",
       "      <td>3.0</td>\n",
       "      <td>3.0</td>\n",
       "      <td>2</td>\n",
       "      <td>NaN</td>\n",
       "      <td>1.5</td>\n",
       "      <td>NaN</td>\n",
       "    </tr>\n",
       "    <tr>\n",
       "      <th>Fracture</th>\n",
       "      <td>5.0</td>\n",
       "      <td>4.0</td>\n",
       "      <td>3.5</td>\n",
       "      <td>3</td>\n",
       "      <td>4.0</td>\n",
       "      <td>5.0</td>\n",
       "      <td>3.5</td>\n",
       "    </tr>\n",
       "    <tr>\n",
       "      <th>Inception</th>\n",
       "      <td>3.0</td>\n",
       "      <td>NaN</td>\n",
       "      <td>2.5</td>\n",
       "      <td>3</td>\n",
       "      <td>NaN</td>\n",
       "      <td>3.0</td>\n",
       "      <td>2.5</td>\n",
       "    </tr>\n",
       "    <tr>\n",
       "      <th>Jerry Maguire</th>\n",
       "      <td>3.0</td>\n",
       "      <td>4.5</td>\n",
       "      <td>3.0</td>\n",
       "      <td>3</td>\n",
       "      <td>NaN</td>\n",
       "      <td>3.0</td>\n",
       "      <td>4.0</td>\n",
       "    </tr>\n",
       "    <tr>\n",
       "      <th>Pulp Fiction</th>\n",
       "      <td>4.0</td>\n",
       "      <td>3.5</td>\n",
       "      <td>3.5</td>\n",
       "      <td>4</td>\n",
       "      <td>4.5</td>\n",
       "      <td>3.5</td>\n",
       "      <td>3.0</td>\n",
       "    </tr>\n",
       "    <tr>\n",
       "      <th>Serendipity</th>\n",
       "      <td>3.5</td>\n",
       "      <td>2.5</td>\n",
       "      <td>2.5</td>\n",
       "      <td>2</td>\n",
       "      <td>1.0</td>\n",
       "      <td>3.5</td>\n",
       "      <td>NaN</td>\n",
       "    </tr>\n",
       "  </tbody>\n",
       "</table>\n",
       "</div>"
      ],
      "text/plain": [
       "                  Alex Roberts  Jillian Hobart  John Carson  Melissa Jones  \\\n",
       "Anger Management           NaN             3.0          3.0              2   \n",
       "Fracture                   5.0             4.0          3.5              3   \n",
       "Inception                  3.0             NaN          2.5              3   \n",
       "Jerry Maguire              3.0             4.5          3.0              3   \n",
       "Pulp Fiction               4.0             3.5          3.5              4   \n",
       "Serendipity                3.5             2.5          2.5              2   \n",
       "\n",
       "                  Michael Henry  Michelle Peterson  William Reynolds  \n",
       "Anger Management            NaN                1.5               NaN  \n",
       "Fracture                    4.0                5.0               3.5  \n",
       "Inception                   NaN                3.0               2.5  \n",
       "Jerry Maguire               NaN                3.0               4.0  \n",
       "Pulp Fiction                4.5                3.5               3.0  \n",
       "Serendipity                 1.0                3.5               NaN  "
      ]
     },
     "execution_count": 2,
     "metadata": {},
     "output_type": "execute_result"
    }
   ],
   "source": [
    "data = pd.read_json('../data/ratings.json')\n",
    "data"
   ]
  },
  {
   "cell_type": "code",
   "execution_count": null,
   "metadata": {},
   "outputs": [],
   "source": []
  },
  {
   "cell_type": "code",
   "execution_count": 4,
   "metadata": {
    "scrolled": false
   },
   "outputs": [
    {
     "data": {
      "text/html": [
       "<div>\n",
       "<style scoped>\n",
       "    .dataframe tbody tr th:only-of-type {\n",
       "        vertical-align: middle;\n",
       "    }\n",
       "\n",
       "    .dataframe tbody tr th {\n",
       "        vertical-align: top;\n",
       "    }\n",
       "\n",
       "    .dataframe thead th {\n",
       "        text-align: right;\n",
       "    }\n",
       "</style>\n",
       "<table border=\"1\" class=\"dataframe\">\n",
       "  <thead>\n",
       "    <tr style=\"text-align: right;\">\n",
       "      <th></th>\n",
       "      <th>Alex Roberts</th>\n",
       "      <th>Jillian Hobart</th>\n",
       "      <th>John Carson</th>\n",
       "      <th>Melissa Jones</th>\n",
       "      <th>Michael Henry</th>\n",
       "      <th>Michelle Peterson</th>\n",
       "      <th>William Reynolds</th>\n",
       "    </tr>\n",
       "  </thead>\n",
       "  <tbody>\n",
       "    <tr>\n",
       "      <th>Alex Roberts</th>\n",
       "      <td>1.000000</td>\n",
       "      <td>0.028571</td>\n",
       "      <td>0.747018</td>\n",
       "      <td>0.211289</td>\n",
       "      <td>0.662849</td>\n",
       "      <td>0.963796</td>\n",
       "      <td>0.134840</td>\n",
       "    </tr>\n",
       "    <tr>\n",
       "      <th>Jillian Hobart</th>\n",
       "      <td>0.028571</td>\n",
       "      <td>1.000000</td>\n",
       "      <td>0.566947</td>\n",
       "      <td>0.566947</td>\n",
       "      <td>0.893405</td>\n",
       "      <td>0.314970</td>\n",
       "      <td>1.000000</td>\n",
       "    </tr>\n",
       "    <tr>\n",
       "      <th>John Carson</th>\n",
       "      <td>0.747018</td>\n",
       "      <td>0.566947</td>\n",
       "      <td>1.000000</td>\n",
       "      <td>0.594089</td>\n",
       "      <td>0.991241</td>\n",
       "      <td>0.396059</td>\n",
       "      <td>0.404520</td>\n",
       "    </tr>\n",
       "    <tr>\n",
       "      <th>Melissa Jones</th>\n",
       "      <td>0.211289</td>\n",
       "      <td>0.566947</td>\n",
       "      <td>0.594089</td>\n",
       "      <td>1.000000</td>\n",
       "      <td>0.924473</td>\n",
       "      <td>0.411765</td>\n",
       "      <td>-0.258199</td>\n",
       "    </tr>\n",
       "    <tr>\n",
       "      <th>Michael Henry</th>\n",
       "      <td>0.662849</td>\n",
       "      <td>0.893405</td>\n",
       "      <td>0.991241</td>\n",
       "      <td>0.924473</td>\n",
       "      <td>1.000000</td>\n",
       "      <td>0.381246</td>\n",
       "      <td>-1.000000</td>\n",
       "    </tr>\n",
       "    <tr>\n",
       "      <th>Michelle Peterson</th>\n",
       "      <td>0.963796</td>\n",
       "      <td>0.314970</td>\n",
       "      <td>0.396059</td>\n",
       "      <td>0.411765</td>\n",
       "      <td>0.381246</td>\n",
       "      <td>1.000000</td>\n",
       "      <td>0.204598</td>\n",
       "    </tr>\n",
       "    <tr>\n",
       "      <th>William Reynolds</th>\n",
       "      <td>0.134840</td>\n",
       "      <td>1.000000</td>\n",
       "      <td>0.404520</td>\n",
       "      <td>-0.258199</td>\n",
       "      <td>-1.000000</td>\n",
       "      <td>0.204598</td>\n",
       "      <td>1.000000</td>\n",
       "    </tr>\n",
       "  </tbody>\n",
       "</table>\n",
       "</div>"
      ],
      "text/plain": [
       "                   Alex Roberts  Jillian Hobart  John Carson  Melissa Jones  \\\n",
       "Alex Roberts           1.000000        0.028571     0.747018       0.211289   \n",
       "Jillian Hobart         0.028571        1.000000     0.566947       0.566947   \n",
       "John Carson            0.747018        0.566947     1.000000       0.594089   \n",
       "Melissa Jones          0.211289        0.566947     0.594089       1.000000   \n",
       "Michael Henry          0.662849        0.893405     0.991241       0.924473   \n",
       "Michelle Peterson      0.963796        0.314970     0.396059       0.411765   \n",
       "William Reynolds       0.134840        1.000000     0.404520      -0.258199   \n",
       "\n",
       "                   Michael Henry  Michelle Peterson  William Reynolds  \n",
       "Alex Roberts            0.662849           0.963796          0.134840  \n",
       "Jillian Hobart          0.893405           0.314970          1.000000  \n",
       "John Carson             0.991241           0.396059          0.404520  \n",
       "Melissa Jones           0.924473           0.411765         -0.258199  \n",
       "Michael Henry           1.000000           0.381246         -1.000000  \n",
       "Michelle Peterson       0.381246           1.000000          0.204598  \n",
       "William Reynolds       -1.000000           0.204598          1.000000  "
      ]
     },
     "execution_count": 4,
     "metadata": {},
     "output_type": "execute_result"
    }
   ],
   "source": [
    "simmat = data.corr()\n",
    "simmat"
   ]
  },
  {
   "cell_type": "code",
   "execution_count": 26,
   "metadata": {},
   "outputs": [
    {
     "data": {
      "text/plain": [
       "Jillian Hobart       1.000000\n",
       "John Carson          0.404520\n",
       "Michelle Peterson    0.204598\n",
       "Alex Roberts         0.134840\n",
       "Name: William Reynolds, dtype: float64"
      ]
     },
     "execution_count": 26,
     "metadata": {},
     "output_type": "execute_result"
    }
   ],
   "source": [
    "\n",
    "# 基于相似度矩阵完成推荐业务\n",
    "login_user = 'William Reynolds'\n",
    "# 根据矩阵找到login_user的相似用户(去掉自己，大小排序, 去掉反相关用户)\n",
    "simusers = simmat[login_user].sort_values(ascending=False)\n",
    "simusers = simusers.drop(login_user)\n",
    "simusers = simusers[simusers>0]\n",
    "simusers"
   ]
  },
  {
   "cell_type": "code",
   "execution_count": 27,
   "metadata": {},
   "outputs": [
    {
     "name": "stdout",
     "output_type": "stream",
     "text": [
      "{'Anger Management': [[3.0, 3.0, 1.5], [1.0, 0.40451991747794525, 0.20459830184114206]], 'Serendipity': [[2.5, 2.5, 3.5, 3.5], [1.0, 0.40451991747794525, 0.20459830184114206, 0.13483997249264842]]}\n"
     ]
    }
   ],
   "source": [
    "# 看一下相似用户喜欢的电影，哪些是login_user没看过的，按照推荐度排序返回即可。\n",
    "# {movie: [[3,3,2,3], [0.9, 0.3, 0.2, 0.6]]}\n",
    "reco_movies = {}\n",
    "for simuser, simscore in simusers.items():\n",
    "    # 找到simuser看过的 而 登录用户没有看过的电影，保存起来\n",
    "    movies = data[simuser].dropna()\n",
    "    for movie, score in movies.items():\n",
    "        if pd.isna(data[login_user][movie]):  # 找到召回的电影\n",
    "            if movie not in reco_movies:\n",
    "                reco_movies[movie] = [[], []]\n",
    "            reco_movies[movie][0].append(score)\n",
    "            reco_movies[movie][1].append(simscore)\n",
    "            \n",
    "print(reco_movies)"
   ]
  },
  {
   "cell_type": "code",
   "execution_count": 28,
   "metadata": {},
   "outputs": [
    {
     "data": {
      "text/plain": [
       "[('Anger Management',\n",
       "  [[3.0, 3.0, 1.5], [1.0, 0.40451991747794525, 0.20459830184114206]]),\n",
       " ('Serendipity',\n",
       "  [[2.5, 2.5, 3.5, 3.5],\n",
       "   [1.0, 0.40451991747794525, 0.20459830184114206, 0.13483997249264842]])]"
      ]
     },
     "execution_count": 28,
     "metadata": {},
     "output_type": "execute_result"
    }
   ],
   "source": [
    "# 为推荐字典按照value的均值进行排序\n",
    "sorted_movie_list = \\\n",
    "    sorted(reco_movies.items(), \n",
    "           key=lambda x: np.average(x[1][0], weights=x[1][1]), reverse=True)\n",
    "sorted_movie_list"
   ]
  },
  {
   "cell_type": "code",
   "execution_count": null,
   "metadata": {},
   "outputs": [],
   "source": []
  },
  {
   "cell_type": "code",
   "execution_count": null,
   "metadata": {},
   "outputs": [],
   "source": []
  },
  {
   "cell_type": "code",
   "execution_count": null,
   "metadata": {},
   "outputs": [],
   "source": []
  },
  {
   "cell_type": "code",
   "execution_count": null,
   "metadata": {},
   "outputs": [],
   "source": []
  },
  {
   "cell_type": "code",
   "execution_count": null,
   "metadata": {},
   "outputs": [],
   "source": []
  },
  {
   "cell_type": "code",
   "execution_count": null,
   "metadata": {},
   "outputs": [],
   "source": []
  },
  {
   "cell_type": "code",
   "execution_count": null,
   "metadata": {},
   "outputs": [],
   "source": []
  },
  {
   "cell_type": "code",
   "execution_count": null,
   "metadata": {},
   "outputs": [],
   "source": []
  },
  {
   "cell_type": "code",
   "execution_count": null,
   "metadata": {},
   "outputs": [],
   "source": []
  }
 ],
 "metadata": {
  "kernelspec": {
   "display_name": "Python 3",
   "language": "python",
   "name": "python3"
  },
  "language_info": {
   "codemirror_mode": {
    "name": "ipython",
    "version": 3
   },
   "file_extension": ".py",
   "mimetype": "text/x-python",
   "name": "python",
   "nbconvert_exporter": "python",
   "pygments_lexer": "ipython3",
   "version": "3.6.4"
  }
 },
 "nbformat": 4,
 "nbformat_minor": 2
}
